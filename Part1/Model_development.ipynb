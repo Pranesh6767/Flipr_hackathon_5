{
 "cells": [
  {
   "cell_type": "markdown",
   "metadata": {},
   "source": [
    "# Flipr Hackathon 5.0 Machine learning"
   ]
  },
  {
   "cell_type": "markdown",
   "metadata": {},
   "source": [
    "# Stock Market Price Prediction"
   ]
  },
  {
   "cell_type": "markdown",
   "metadata": {},
   "source": [
    "## Problem Statement 1: Prediction of Stock Price"
   ]
  },
  {
   "cell_type": "markdown",
   "metadata": {},
   "source": [
    "## Model Development"
   ]
  },
  {
   "cell_type": "markdown",
   "metadata": {},
   "source": [
    "## Importing Required Libraries"
   ]
  },
  {
   "cell_type": "code",
   "execution_count": 1,
   "metadata": {},
   "outputs": [],
   "source": [
    "import pandas as pd\n",
    "import numpy as np\n",
    "import matplotlib.pylab as plt\n",
    "import seaborn as sns\n",
    "from sklearn.model_selection import train_test_split\n",
    "from sklearn.metrics import mean_squared_error\n",
    "from sklearn.ensemble import RandomForestRegressor\n",
    "from sklearn.linear_model import LinearRegression"
   ]
  },
  {
   "cell_type": "markdown",
   "metadata": {},
   "source": [
    "## Reframing the Dataset"
   ]
  },
  {
   "cell_type": "code",
   "execution_count": 2,
   "metadata": {},
   "outputs": [
    {
     "data": {
      "text/html": [
       "<div>\n",
       "<style scoped>\n",
       "    .dataframe tbody tr th:only-of-type {\n",
       "        vertical-align: middle;\n",
       "    }\n",
       "\n",
       "    .dataframe tbody tr th {\n",
       "        vertical-align: top;\n",
       "    }\n",
       "\n",
       "    .dataframe thead th {\n",
       "        text-align: right;\n",
       "    }\n",
       "</style>\n",
       "<table border=\"1\" class=\"dataframe\">\n",
       "  <thead>\n",
       "    <tr style=\"text-align: right;\">\n",
       "      <th></th>\n",
       "      <th>Unnamed: 0</th>\n",
       "      <th>Stock Index</th>\n",
       "      <th>Index</th>\n",
       "      <th>Industry</th>\n",
       "      <th>VWAP</th>\n",
       "      <th>General Index</th>\n",
       "      <th>NAV</th>\n",
       "      <th>P/E Ratio</th>\n",
       "      <th>Volumes Traded</th>\n",
       "      <th>Inventory Turnover</th>\n",
       "      <th>...</th>\n",
       "      <th>Tracking Error</th>\n",
       "      <th>Dollar Exchange Rate</th>\n",
       "      <th>Put-Call Ratio</th>\n",
       "      <th>P/B Ratio</th>\n",
       "      <th>Stock Price</th>\n",
       "      <th>Industry-Energy</th>\n",
       "      <th>Industry-Healthcare</th>\n",
       "      <th>Industry-Information Tech</th>\n",
       "      <th>Industry-Materials</th>\n",
       "      <th>Industry-Real Estate</th>\n",
       "    </tr>\n",
       "  </thead>\n",
       "  <tbody>\n",
       "    <tr>\n",
       "      <th>0</th>\n",
       "      <td>0</td>\n",
       "      <td>AA1</td>\n",
       "      <td>NYSE</td>\n",
       "      <td>Real Estate</td>\n",
       "      <td>0.725531</td>\n",
       "      <td>0.229099</td>\n",
       "      <td>0.323865</td>\n",
       "      <td>0.226784</td>\n",
       "      <td>0.059967</td>\n",
       "      <td>0.606242</td>\n",
       "      <td>...</td>\n",
       "      <td>0.845528</td>\n",
       "      <td>0.013351</td>\n",
       "      <td>0.472868</td>\n",
       "      <td>0.962343</td>\n",
       "      <td>156.987852</td>\n",
       "      <td>0</td>\n",
       "      <td>0</td>\n",
       "      <td>0</td>\n",
       "      <td>0</td>\n",
       "      <td>1</td>\n",
       "    </tr>\n",
       "    <tr>\n",
       "      <th>1</th>\n",
       "      <td>1</td>\n",
       "      <td>AA4</td>\n",
       "      <td>BSE</td>\n",
       "      <td>Materials</td>\n",
       "      <td>0.857979</td>\n",
       "      <td>0.685225</td>\n",
       "      <td>0.736747</td>\n",
       "      <td>0.758914</td>\n",
       "      <td>0.412653</td>\n",
       "      <td>0.576230</td>\n",
       "      <td>...</td>\n",
       "      <td>0.700813</td>\n",
       "      <td>1.000000</td>\n",
       "      <td>0.860465</td>\n",
       "      <td>0.585774</td>\n",
       "      <td>1121.787632</td>\n",
       "      <td>0</td>\n",
       "      <td>0</td>\n",
       "      <td>0</td>\n",
       "      <td>1</td>\n",
       "      <td>0</td>\n",
       "    </tr>\n",
       "    <tr>\n",
       "      <th>2</th>\n",
       "      <td>2</td>\n",
       "      <td>AA6</td>\n",
       "      <td>BSE</td>\n",
       "      <td>Materials</td>\n",
       "      <td>0.268967</td>\n",
       "      <td>0.685225</td>\n",
       "      <td>0.106321</td>\n",
       "      <td>0.765365</td>\n",
       "      <td>0.955812</td>\n",
       "      <td>0.965186</td>\n",
       "      <td>...</td>\n",
       "      <td>0.559350</td>\n",
       "      <td>1.000000</td>\n",
       "      <td>0.891473</td>\n",
       "      <td>0.576360</td>\n",
       "      <td>158.687016</td>\n",
       "      <td>0</td>\n",
       "      <td>0</td>\n",
       "      <td>0</td>\n",
       "      <td>1</td>\n",
       "      <td>0</td>\n",
       "    </tr>\n",
       "    <tr>\n",
       "      <th>3</th>\n",
       "      <td>3</td>\n",
       "      <td>AA7</td>\n",
       "      <td>NYSE</td>\n",
       "      <td>Healthcare</td>\n",
       "      <td>0.658271</td>\n",
       "      <td>0.229099</td>\n",
       "      <td>0.672234</td>\n",
       "      <td>0.148172</td>\n",
       "      <td>0.351590</td>\n",
       "      <td>0.704682</td>\n",
       "      <td>...</td>\n",
       "      <td>0.302439</td>\n",
       "      <td>0.013351</td>\n",
       "      <td>0.581395</td>\n",
       "      <td>0.899582</td>\n",
       "      <td>209.645870</td>\n",
       "      <td>0</td>\n",
       "      <td>1</td>\n",
       "      <td>0</td>\n",
       "      <td>0</td>\n",
       "      <td>0</td>\n",
       "    </tr>\n",
       "    <tr>\n",
       "      <th>4</th>\n",
       "      <td>4</td>\n",
       "      <td>AA9</td>\n",
       "      <td>NSE</td>\n",
       "      <td>Materials</td>\n",
       "      <td>0.985081</td>\n",
       "      <td>0.202257</td>\n",
       "      <td>0.315063</td>\n",
       "      <td>0.798020</td>\n",
       "      <td>0.067529</td>\n",
       "      <td>0.326531</td>\n",
       "      <td>...</td>\n",
       "      <td>0.868293</td>\n",
       "      <td>1.000000</td>\n",
       "      <td>0.945736</td>\n",
       "      <td>0.675732</td>\n",
       "      <td>514.240811</td>\n",
       "      <td>0</td>\n",
       "      <td>0</td>\n",
       "      <td>0</td>\n",
       "      <td>1</td>\n",
       "      <td>0</td>\n",
       "    </tr>\n",
       "  </tbody>\n",
       "</table>\n",
       "<p>5 rows × 21 columns</p>\n",
       "</div>"
      ],
      "text/plain": [
       "   Unnamed: 0 Stock Index Index     Industry      VWAP  General Index  \\\n",
       "0           0         AA1  NYSE  Real Estate  0.725531       0.229099   \n",
       "1           1         AA4   BSE    Materials  0.857979       0.685225   \n",
       "2           2         AA6   BSE    Materials  0.268967       0.685225   \n",
       "3           3         AA7  NYSE   Healthcare  0.658271       0.229099   \n",
       "4           4         AA9   NSE    Materials  0.985081       0.202257   \n",
       "\n",
       "        NAV  P/E Ratio  Volumes Traded  Inventory Turnover  ...  \\\n",
       "0  0.323865   0.226784        0.059967            0.606242  ...   \n",
       "1  0.736747   0.758914        0.412653            0.576230  ...   \n",
       "2  0.106321   0.765365        0.955812            0.965186  ...   \n",
       "3  0.672234   0.148172        0.351590            0.704682  ...   \n",
       "4  0.315063   0.798020        0.067529            0.326531  ...   \n",
       "\n",
       "   Tracking Error  Dollar Exchange Rate  Put-Call Ratio  P/B Ratio  \\\n",
       "0        0.845528              0.013351        0.472868   0.962343   \n",
       "1        0.700813              1.000000        0.860465   0.585774   \n",
       "2        0.559350              1.000000        0.891473   0.576360   \n",
       "3        0.302439              0.013351        0.581395   0.899582   \n",
       "4        0.868293              1.000000        0.945736   0.675732   \n",
       "\n",
       "   Stock Price  Industry-Energy  Industry-Healthcare  \\\n",
       "0   156.987852                0                    0   \n",
       "1  1121.787632                0                    0   \n",
       "2   158.687016                0                    0   \n",
       "3   209.645870                0                    1   \n",
       "4   514.240811                0                    0   \n",
       "\n",
       "   Industry-Information Tech  Industry-Materials  Industry-Real Estate  \n",
       "0                          0                   0                     1  \n",
       "1                          0                   1                     0  \n",
       "2                          0                   1                     0  \n",
       "3                          0                   0                     0  \n",
       "4                          0                   1                     0  \n",
       "\n",
       "[5 rows x 21 columns]"
      ]
     },
     "execution_count": 2,
     "metadata": {},
     "output_type": "execute_result"
    }
   ],
   "source": [
    "df = pd.read_excel('cleaned_final_train_data.xlsx')\n",
    "df.head()"
   ]
  },
  {
   "cell_type": "code",
   "execution_count": 3,
   "metadata": {},
   "outputs": [],
   "source": [
    "df.drop(['Unnamed: 0','Industry'],axis = 1, inplace = True)"
   ]
  },
  {
   "cell_type": "markdown",
   "metadata": {},
   "source": [
    "## One hot encoding the Index parameter"
   ]
  },
  {
   "cell_type": "code",
   "execution_count": 4,
   "metadata": {},
   "outputs": [
    {
     "data": {
      "text/html": [
       "<div>\n",
       "<style scoped>\n",
       "    .dataframe tbody tr th:only-of-type {\n",
       "        vertical-align: middle;\n",
       "    }\n",
       "\n",
       "    .dataframe tbody tr th {\n",
       "        vertical-align: top;\n",
       "    }\n",
       "\n",
       "    .dataframe thead th {\n",
       "        text-align: right;\n",
       "    }\n",
       "</style>\n",
       "<table border=\"1\" class=\"dataframe\">\n",
       "  <thead>\n",
       "    <tr style=\"text-align: right;\">\n",
       "      <th></th>\n",
       "      <th>BSE</th>\n",
       "      <th>JSE</th>\n",
       "      <th>NSE</th>\n",
       "      <th>NYSE</th>\n",
       "      <th>S&amp;P 500</th>\n",
       "    </tr>\n",
       "  </thead>\n",
       "  <tbody>\n",
       "    <tr>\n",
       "      <th>0</th>\n",
       "      <td>0</td>\n",
       "      <td>0</td>\n",
       "      <td>0</td>\n",
       "      <td>1</td>\n",
       "      <td>0</td>\n",
       "    </tr>\n",
       "    <tr>\n",
       "      <th>1</th>\n",
       "      <td>1</td>\n",
       "      <td>0</td>\n",
       "      <td>0</td>\n",
       "      <td>0</td>\n",
       "      <td>0</td>\n",
       "    </tr>\n",
       "    <tr>\n",
       "      <th>2</th>\n",
       "      <td>1</td>\n",
       "      <td>0</td>\n",
       "      <td>0</td>\n",
       "      <td>0</td>\n",
       "      <td>0</td>\n",
       "    </tr>\n",
       "    <tr>\n",
       "      <th>3</th>\n",
       "      <td>0</td>\n",
       "      <td>0</td>\n",
       "      <td>0</td>\n",
       "      <td>1</td>\n",
       "      <td>0</td>\n",
       "    </tr>\n",
       "    <tr>\n",
       "      <th>4</th>\n",
       "      <td>0</td>\n",
       "      <td>0</td>\n",
       "      <td>1</td>\n",
       "      <td>0</td>\n",
       "      <td>0</td>\n",
       "    </tr>\n",
       "    <tr>\n",
       "      <th>5</th>\n",
       "      <td>0</td>\n",
       "      <td>0</td>\n",
       "      <td>0</td>\n",
       "      <td>0</td>\n",
       "      <td>1</td>\n",
       "    </tr>\n",
       "    <tr>\n",
       "      <th>6</th>\n",
       "      <td>1</td>\n",
       "      <td>0</td>\n",
       "      <td>0</td>\n",
       "      <td>0</td>\n",
       "      <td>0</td>\n",
       "    </tr>\n",
       "    <tr>\n",
       "      <th>7</th>\n",
       "      <td>0</td>\n",
       "      <td>1</td>\n",
       "      <td>0</td>\n",
       "      <td>0</td>\n",
       "      <td>0</td>\n",
       "    </tr>\n",
       "    <tr>\n",
       "      <th>8</th>\n",
       "      <td>0</td>\n",
       "      <td>0</td>\n",
       "      <td>0</td>\n",
       "      <td>0</td>\n",
       "      <td>1</td>\n",
       "    </tr>\n",
       "    <tr>\n",
       "      <th>9</th>\n",
       "      <td>0</td>\n",
       "      <td>0</td>\n",
       "      <td>0</td>\n",
       "      <td>1</td>\n",
       "      <td>0</td>\n",
       "    </tr>\n",
       "  </tbody>\n",
       "</table>\n",
       "</div>"
      ],
      "text/plain": [
       "   BSE  JSE  NSE  NYSE  S&P 500\n",
       "0    0    0    0     1        0\n",
       "1    1    0    0     0        0\n",
       "2    1    0    0     0        0\n",
       "3    0    0    0     1        0\n",
       "4    0    0    1     0        0\n",
       "5    0    0    0     0        1\n",
       "6    1    0    0     0        0\n",
       "7    0    1    0     0        0\n",
       "8    0    0    0     0        1\n",
       "9    0    0    0     1        0"
      ]
     },
     "execution_count": 4,
     "metadata": {},
     "output_type": "execute_result"
    }
   ],
   "source": [
    "dummy_variable_1 = pd.get_dummies(df[\"Index\"])\n",
    "dummy_variable_1.head(10)"
   ]
  },
  {
   "cell_type": "code",
   "execution_count": 5,
   "metadata": {},
   "outputs": [
    {
     "data": {
      "text/html": [
       "<div>\n",
       "<style scoped>\n",
       "    .dataframe tbody tr th:only-of-type {\n",
       "        vertical-align: middle;\n",
       "    }\n",
       "\n",
       "    .dataframe tbody tr th {\n",
       "        vertical-align: top;\n",
       "    }\n",
       "\n",
       "    .dataframe thead th {\n",
       "        text-align: right;\n",
       "    }\n",
       "</style>\n",
       "<table border=\"1\" class=\"dataframe\">\n",
       "  <thead>\n",
       "    <tr style=\"text-align: right;\">\n",
       "      <th></th>\n",
       "      <th>Stock Index</th>\n",
       "      <th>Index</th>\n",
       "      <th>VWAP</th>\n",
       "      <th>General Index</th>\n",
       "      <th>NAV</th>\n",
       "      <th>P/E Ratio</th>\n",
       "      <th>Volumes Traded</th>\n",
       "      <th>Inventory Turnover</th>\n",
       "      <th>Covid Impact (Beta)</th>\n",
       "      <th>Tracking Error</th>\n",
       "      <th>...</th>\n",
       "      <th>Industry-Energy</th>\n",
       "      <th>Industry-Healthcare</th>\n",
       "      <th>Industry-Information Tech</th>\n",
       "      <th>Industry-Materials</th>\n",
       "      <th>Industry-Real Estate</th>\n",
       "      <th>BSE</th>\n",
       "      <th>JSE</th>\n",
       "      <th>NSE</th>\n",
       "      <th>NYSE</th>\n",
       "      <th>S&amp;P 500</th>\n",
       "    </tr>\n",
       "  </thead>\n",
       "  <tbody>\n",
       "    <tr>\n",
       "      <th>0</th>\n",
       "      <td>AA1</td>\n",
       "      <td>NYSE</td>\n",
       "      <td>0.725531</td>\n",
       "      <td>0.229099</td>\n",
       "      <td>0.323865</td>\n",
       "      <td>0.226784</td>\n",
       "      <td>0.059967</td>\n",
       "      <td>0.606242</td>\n",
       "      <td>-0.551282</td>\n",
       "      <td>0.845528</td>\n",
       "      <td>...</td>\n",
       "      <td>0</td>\n",
       "      <td>0</td>\n",
       "      <td>0</td>\n",
       "      <td>0</td>\n",
       "      <td>1</td>\n",
       "      <td>0</td>\n",
       "      <td>0</td>\n",
       "      <td>0</td>\n",
       "      <td>1</td>\n",
       "      <td>0</td>\n",
       "    </tr>\n",
       "    <tr>\n",
       "      <th>1</th>\n",
       "      <td>AA4</td>\n",
       "      <td>BSE</td>\n",
       "      <td>0.857979</td>\n",
       "      <td>0.685225</td>\n",
       "      <td>0.736747</td>\n",
       "      <td>0.758914</td>\n",
       "      <td>0.412653</td>\n",
       "      <td>0.576230</td>\n",
       "      <td>0.038462</td>\n",
       "      <td>0.700813</td>\n",
       "      <td>...</td>\n",
       "      <td>0</td>\n",
       "      <td>0</td>\n",
       "      <td>0</td>\n",
       "      <td>1</td>\n",
       "      <td>0</td>\n",
       "      <td>1</td>\n",
       "      <td>0</td>\n",
       "      <td>0</td>\n",
       "      <td>0</td>\n",
       "      <td>0</td>\n",
       "    </tr>\n",
       "    <tr>\n",
       "      <th>2</th>\n",
       "      <td>AA6</td>\n",
       "      <td>BSE</td>\n",
       "      <td>0.268967</td>\n",
       "      <td>0.685225</td>\n",
       "      <td>0.106321</td>\n",
       "      <td>0.765365</td>\n",
       "      <td>0.955812</td>\n",
       "      <td>0.965186</td>\n",
       "      <td>0.038462</td>\n",
       "      <td>0.559350</td>\n",
       "      <td>...</td>\n",
       "      <td>0</td>\n",
       "      <td>0</td>\n",
       "      <td>0</td>\n",
       "      <td>1</td>\n",
       "      <td>0</td>\n",
       "      <td>1</td>\n",
       "      <td>0</td>\n",
       "      <td>0</td>\n",
       "      <td>0</td>\n",
       "      <td>0</td>\n",
       "    </tr>\n",
       "    <tr>\n",
       "      <th>3</th>\n",
       "      <td>AA7</td>\n",
       "      <td>NYSE</td>\n",
       "      <td>0.658271</td>\n",
       "      <td>0.229099</td>\n",
       "      <td>0.672234</td>\n",
       "      <td>0.148172</td>\n",
       "      <td>0.351590</td>\n",
       "      <td>0.704682</td>\n",
       "      <td>1.000000</td>\n",
       "      <td>0.302439</td>\n",
       "      <td>...</td>\n",
       "      <td>0</td>\n",
       "      <td>1</td>\n",
       "      <td>0</td>\n",
       "      <td>0</td>\n",
       "      <td>0</td>\n",
       "      <td>0</td>\n",
       "      <td>0</td>\n",
       "      <td>0</td>\n",
       "      <td>1</td>\n",
       "      <td>0</td>\n",
       "    </tr>\n",
       "    <tr>\n",
       "      <th>4</th>\n",
       "      <td>AA9</td>\n",
       "      <td>NSE</td>\n",
       "      <td>0.985081</td>\n",
       "      <td>0.202257</td>\n",
       "      <td>0.315063</td>\n",
       "      <td>0.798020</td>\n",
       "      <td>0.067529</td>\n",
       "      <td>0.326531</td>\n",
       "      <td>0.038462</td>\n",
       "      <td>0.868293</td>\n",
       "      <td>...</td>\n",
       "      <td>0</td>\n",
       "      <td>0</td>\n",
       "      <td>0</td>\n",
       "      <td>1</td>\n",
       "      <td>0</td>\n",
       "      <td>0</td>\n",
       "      <td>0</td>\n",
       "      <td>1</td>\n",
       "      <td>0</td>\n",
       "      <td>0</td>\n",
       "    </tr>\n",
       "    <tr>\n",
       "      <th>5</th>\n",
       "      <td>AA21</td>\n",
       "      <td>S&amp;P 500</td>\n",
       "      <td>0.951472</td>\n",
       "      <td>0.060143</td>\n",
       "      <td>0.230346</td>\n",
       "      <td>0.567235</td>\n",
       "      <td>0.153556</td>\n",
       "      <td>0.387755</td>\n",
       "      <td>0.294872</td>\n",
       "      <td>0.723577</td>\n",
       "      <td>...</td>\n",
       "      <td>0</td>\n",
       "      <td>0</td>\n",
       "      <td>1</td>\n",
       "      <td>0</td>\n",
       "      <td>0</td>\n",
       "      <td>0</td>\n",
       "      <td>0</td>\n",
       "      <td>0</td>\n",
       "      <td>0</td>\n",
       "      <td>1</td>\n",
       "    </tr>\n",
       "    <tr>\n",
       "      <th>6</th>\n",
       "      <td>AA22</td>\n",
       "      <td>BSE</td>\n",
       "      <td>0.323608</td>\n",
       "      <td>0.685225</td>\n",
       "      <td>0.312963</td>\n",
       "      <td>0.872931</td>\n",
       "      <td>0.847639</td>\n",
       "      <td>0.496999</td>\n",
       "      <td>1.000000</td>\n",
       "      <td>0.367480</td>\n",
       "      <td>...</td>\n",
       "      <td>0</td>\n",
       "      <td>1</td>\n",
       "      <td>0</td>\n",
       "      <td>0</td>\n",
       "      <td>0</td>\n",
       "      <td>1</td>\n",
       "      <td>0</td>\n",
       "      <td>0</td>\n",
       "      <td>0</td>\n",
       "      <td>0</td>\n",
       "    </tr>\n",
       "    <tr>\n",
       "      <th>7</th>\n",
       "      <td>AA23</td>\n",
       "      <td>JSE</td>\n",
       "      <td>0.415609</td>\n",
       "      <td>1.000000</td>\n",
       "      <td>0.432787</td>\n",
       "      <td>0.536630</td>\n",
       "      <td>0.441875</td>\n",
       "      <td>0.791116</td>\n",
       "      <td>1.000000</td>\n",
       "      <td>0.482927</td>\n",
       "      <td>...</td>\n",
       "      <td>0</td>\n",
       "      <td>1</td>\n",
       "      <td>0</td>\n",
       "      <td>0</td>\n",
       "      <td>0</td>\n",
       "      <td>0</td>\n",
       "      <td>1</td>\n",
       "      <td>0</td>\n",
       "      <td>0</td>\n",
       "      <td>0</td>\n",
       "    </tr>\n",
       "    <tr>\n",
       "      <th>8</th>\n",
       "      <td>AA24</td>\n",
       "      <td>S&amp;P 500</td>\n",
       "      <td>0.434527</td>\n",
       "      <td>0.060143</td>\n",
       "      <td>0.499800</td>\n",
       "      <td>0.193529</td>\n",
       "      <td>0.804406</td>\n",
       "      <td>0.424970</td>\n",
       "      <td>-0.551282</td>\n",
       "      <td>0.747967</td>\n",
       "      <td>...</td>\n",
       "      <td>0</td>\n",
       "      <td>0</td>\n",
       "      <td>0</td>\n",
       "      <td>0</td>\n",
       "      <td>1</td>\n",
       "      <td>0</td>\n",
       "      <td>0</td>\n",
       "      <td>0</td>\n",
       "      <td>0</td>\n",
       "      <td>1</td>\n",
       "    </tr>\n",
       "    <tr>\n",
       "      <th>9</th>\n",
       "      <td>AA25</td>\n",
       "      <td>NYSE</td>\n",
       "      <td>0.536961</td>\n",
       "      <td>0.229099</td>\n",
       "      <td>0.682136</td>\n",
       "      <td>0.875131</td>\n",
       "      <td>0.106015</td>\n",
       "      <td>0.470588</td>\n",
       "      <td>-0.551282</td>\n",
       "      <td>0.956098</td>\n",
       "      <td>...</td>\n",
       "      <td>0</td>\n",
       "      <td>0</td>\n",
       "      <td>0</td>\n",
       "      <td>0</td>\n",
       "      <td>1</td>\n",
       "      <td>0</td>\n",
       "      <td>0</td>\n",
       "      <td>0</td>\n",
       "      <td>1</td>\n",
       "      <td>0</td>\n",
       "    </tr>\n",
       "  </tbody>\n",
       "</table>\n",
       "<p>10 rows × 24 columns</p>\n",
       "</div>"
      ],
      "text/plain": [
       "  Stock Index    Index      VWAP  General Index       NAV  P/E Ratio  \\\n",
       "0         AA1     NYSE  0.725531       0.229099  0.323865   0.226784   \n",
       "1         AA4      BSE  0.857979       0.685225  0.736747   0.758914   \n",
       "2         AA6      BSE  0.268967       0.685225  0.106321   0.765365   \n",
       "3         AA7     NYSE  0.658271       0.229099  0.672234   0.148172   \n",
       "4         AA9      NSE  0.985081       0.202257  0.315063   0.798020   \n",
       "5        AA21  S&P 500  0.951472       0.060143  0.230346   0.567235   \n",
       "6        AA22      BSE  0.323608       0.685225  0.312963   0.872931   \n",
       "7        AA23      JSE  0.415609       1.000000  0.432787   0.536630   \n",
       "8        AA24  S&P 500  0.434527       0.060143  0.499800   0.193529   \n",
       "9        AA25     NYSE  0.536961       0.229099  0.682136   0.875131   \n",
       "\n",
       "   Volumes Traded  Inventory Turnover  Covid Impact (Beta)  Tracking Error  \\\n",
       "0        0.059967            0.606242            -0.551282        0.845528   \n",
       "1        0.412653            0.576230             0.038462        0.700813   \n",
       "2        0.955812            0.965186             0.038462        0.559350   \n",
       "3        0.351590            0.704682             1.000000        0.302439   \n",
       "4        0.067529            0.326531             0.038462        0.868293   \n",
       "5        0.153556            0.387755             0.294872        0.723577   \n",
       "6        0.847639            0.496999             1.000000        0.367480   \n",
       "7        0.441875            0.791116             1.000000        0.482927   \n",
       "8        0.804406            0.424970            -0.551282        0.747967   \n",
       "9        0.106015            0.470588            -0.551282        0.956098   \n",
       "\n",
       "   ...  Industry-Energy  Industry-Healthcare  Industry-Information Tech  \\\n",
       "0  ...                0                    0                          0   \n",
       "1  ...                0                    0                          0   \n",
       "2  ...                0                    0                          0   \n",
       "3  ...                0                    1                          0   \n",
       "4  ...                0                    0                          0   \n",
       "5  ...                0                    0                          1   \n",
       "6  ...                0                    1                          0   \n",
       "7  ...                0                    1                          0   \n",
       "8  ...                0                    0                          0   \n",
       "9  ...                0                    0                          0   \n",
       "\n",
       "   Industry-Materials  Industry-Real Estate  BSE  JSE  NSE  NYSE  S&P 500  \n",
       "0                   0                     1    0    0    0     1        0  \n",
       "1                   1                     0    1    0    0     0        0  \n",
       "2                   1                     0    1    0    0     0        0  \n",
       "3                   0                     0    0    0    0     1        0  \n",
       "4                   1                     0    0    0    1     0        0  \n",
       "5                   0                     0    0    0    0     0        1  \n",
       "6                   0                     0    1    0    0     0        0  \n",
       "7                   0                     0    0    1    0     0        0  \n",
       "8                   0                     1    0    0    0     0        1  \n",
       "9                   0                     1    0    0    0     1        0  \n",
       "\n",
       "[10 rows x 24 columns]"
      ]
     },
     "execution_count": 5,
     "metadata": {},
     "output_type": "execute_result"
    }
   ],
   "source": [
    "df = pd.concat([df, dummy_variable_1], axis=1)\n",
    "df.head(10)"
   ]
  },
  {
   "cell_type": "code",
   "execution_count": 6,
   "metadata": {},
   "outputs": [],
   "source": [
    "df.drop(['Stock Index','Index'], axis = 1, inplace = True)"
   ]
  },
  {
   "cell_type": "code",
   "execution_count": 7,
   "metadata": {},
   "outputs": [
    {
     "data": {
      "text/html": [
       "<div>\n",
       "<style scoped>\n",
       "    .dataframe tbody tr th:only-of-type {\n",
       "        vertical-align: middle;\n",
       "    }\n",
       "\n",
       "    .dataframe tbody tr th {\n",
       "        vertical-align: top;\n",
       "    }\n",
       "\n",
       "    .dataframe thead th {\n",
       "        text-align: right;\n",
       "    }\n",
       "</style>\n",
       "<table border=\"1\" class=\"dataframe\">\n",
       "  <thead>\n",
       "    <tr style=\"text-align: right;\">\n",
       "      <th></th>\n",
       "      <th>VWAP</th>\n",
       "      <th>General Index</th>\n",
       "      <th>NAV</th>\n",
       "      <th>P/E Ratio</th>\n",
       "      <th>Volumes Traded</th>\n",
       "      <th>Inventory Turnover</th>\n",
       "      <th>Covid Impact (Beta)</th>\n",
       "      <th>Tracking Error</th>\n",
       "      <th>Dollar Exchange Rate</th>\n",
       "      <th>Put-Call Ratio</th>\n",
       "      <th>...</th>\n",
       "      <th>Industry-Energy</th>\n",
       "      <th>Industry-Healthcare</th>\n",
       "      <th>Industry-Information Tech</th>\n",
       "      <th>Industry-Materials</th>\n",
       "      <th>Industry-Real Estate</th>\n",
       "      <th>BSE</th>\n",
       "      <th>JSE</th>\n",
       "      <th>NSE</th>\n",
       "      <th>NYSE</th>\n",
       "      <th>S&amp;P 500</th>\n",
       "    </tr>\n",
       "  </thead>\n",
       "  <tbody>\n",
       "    <tr>\n",
       "      <th>0</th>\n",
       "      <td>0.725531</td>\n",
       "      <td>0.229099</td>\n",
       "      <td>0.323865</td>\n",
       "      <td>0.226784</td>\n",
       "      <td>0.059967</td>\n",
       "      <td>0.606242</td>\n",
       "      <td>-0.551282</td>\n",
       "      <td>0.845528</td>\n",
       "      <td>0.013351</td>\n",
       "      <td>0.472868</td>\n",
       "      <td>...</td>\n",
       "      <td>0</td>\n",
       "      <td>0</td>\n",
       "      <td>0</td>\n",
       "      <td>0</td>\n",
       "      <td>1</td>\n",
       "      <td>0</td>\n",
       "      <td>0</td>\n",
       "      <td>0</td>\n",
       "      <td>1</td>\n",
       "      <td>0</td>\n",
       "    </tr>\n",
       "    <tr>\n",
       "      <th>1</th>\n",
       "      <td>0.857979</td>\n",
       "      <td>0.685225</td>\n",
       "      <td>0.736747</td>\n",
       "      <td>0.758914</td>\n",
       "      <td>0.412653</td>\n",
       "      <td>0.576230</td>\n",
       "      <td>0.038462</td>\n",
       "      <td>0.700813</td>\n",
       "      <td>1.000000</td>\n",
       "      <td>0.860465</td>\n",
       "      <td>...</td>\n",
       "      <td>0</td>\n",
       "      <td>0</td>\n",
       "      <td>0</td>\n",
       "      <td>1</td>\n",
       "      <td>0</td>\n",
       "      <td>1</td>\n",
       "      <td>0</td>\n",
       "      <td>0</td>\n",
       "      <td>0</td>\n",
       "      <td>0</td>\n",
       "    </tr>\n",
       "    <tr>\n",
       "      <th>2</th>\n",
       "      <td>0.268967</td>\n",
       "      <td>0.685225</td>\n",
       "      <td>0.106321</td>\n",
       "      <td>0.765365</td>\n",
       "      <td>0.955812</td>\n",
       "      <td>0.965186</td>\n",
       "      <td>0.038462</td>\n",
       "      <td>0.559350</td>\n",
       "      <td>1.000000</td>\n",
       "      <td>0.891473</td>\n",
       "      <td>...</td>\n",
       "      <td>0</td>\n",
       "      <td>0</td>\n",
       "      <td>0</td>\n",
       "      <td>1</td>\n",
       "      <td>0</td>\n",
       "      <td>1</td>\n",
       "      <td>0</td>\n",
       "      <td>0</td>\n",
       "      <td>0</td>\n",
       "      <td>0</td>\n",
       "    </tr>\n",
       "    <tr>\n",
       "      <th>3</th>\n",
       "      <td>0.658271</td>\n",
       "      <td>0.229099</td>\n",
       "      <td>0.672234</td>\n",
       "      <td>0.148172</td>\n",
       "      <td>0.351590</td>\n",
       "      <td>0.704682</td>\n",
       "      <td>1.000000</td>\n",
       "      <td>0.302439</td>\n",
       "      <td>0.013351</td>\n",
       "      <td>0.581395</td>\n",
       "      <td>...</td>\n",
       "      <td>0</td>\n",
       "      <td>1</td>\n",
       "      <td>0</td>\n",
       "      <td>0</td>\n",
       "      <td>0</td>\n",
       "      <td>0</td>\n",
       "      <td>0</td>\n",
       "      <td>0</td>\n",
       "      <td>1</td>\n",
       "      <td>0</td>\n",
       "    </tr>\n",
       "    <tr>\n",
       "      <th>4</th>\n",
       "      <td>0.985081</td>\n",
       "      <td>0.202257</td>\n",
       "      <td>0.315063</td>\n",
       "      <td>0.798020</td>\n",
       "      <td>0.067529</td>\n",
       "      <td>0.326531</td>\n",
       "      <td>0.038462</td>\n",
       "      <td>0.868293</td>\n",
       "      <td>1.000000</td>\n",
       "      <td>0.945736</td>\n",
       "      <td>...</td>\n",
       "      <td>0</td>\n",
       "      <td>0</td>\n",
       "      <td>0</td>\n",
       "      <td>1</td>\n",
       "      <td>0</td>\n",
       "      <td>0</td>\n",
       "      <td>0</td>\n",
       "      <td>1</td>\n",
       "      <td>0</td>\n",
       "      <td>0</td>\n",
       "    </tr>\n",
       "  </tbody>\n",
       "</table>\n",
       "<p>5 rows × 22 columns</p>\n",
       "</div>"
      ],
      "text/plain": [
       "       VWAP  General Index       NAV  P/E Ratio  Volumes Traded  \\\n",
       "0  0.725531       0.229099  0.323865   0.226784        0.059967   \n",
       "1  0.857979       0.685225  0.736747   0.758914        0.412653   \n",
       "2  0.268967       0.685225  0.106321   0.765365        0.955812   \n",
       "3  0.658271       0.229099  0.672234   0.148172        0.351590   \n",
       "4  0.985081       0.202257  0.315063   0.798020        0.067529   \n",
       "\n",
       "   Inventory Turnover  Covid Impact (Beta)  Tracking Error  \\\n",
       "0            0.606242            -0.551282        0.845528   \n",
       "1            0.576230             0.038462        0.700813   \n",
       "2            0.965186             0.038462        0.559350   \n",
       "3            0.704682             1.000000        0.302439   \n",
       "4            0.326531             0.038462        0.868293   \n",
       "\n",
       "   Dollar Exchange Rate  Put-Call Ratio  ...  Industry-Energy  \\\n",
       "0              0.013351        0.472868  ...                0   \n",
       "1              1.000000        0.860465  ...                0   \n",
       "2              1.000000        0.891473  ...                0   \n",
       "3              0.013351        0.581395  ...                0   \n",
       "4              1.000000        0.945736  ...                0   \n",
       "\n",
       "   Industry-Healthcare  Industry-Information Tech  Industry-Materials  \\\n",
       "0                    0                          0                   0   \n",
       "1                    0                          0                   1   \n",
       "2                    0                          0                   1   \n",
       "3                    1                          0                   0   \n",
       "4                    0                          0                   1   \n",
       "\n",
       "   Industry-Real Estate  BSE  JSE  NSE  NYSE  S&P 500  \n",
       "0                     1    0    0    0     1        0  \n",
       "1                     0    1    0    0     0        0  \n",
       "2                     0    1    0    0     0        0  \n",
       "3                     0    0    0    0     1        0  \n",
       "4                     0    0    0    1     0        0  \n",
       "\n",
       "[5 rows x 22 columns]"
      ]
     },
     "execution_count": 7,
     "metadata": {},
     "output_type": "execute_result"
    }
   ],
   "source": [
    "df.head()"
   ]
  },
  {
   "cell_type": "code",
   "execution_count": 8,
   "metadata": {},
   "outputs": [
    {
     "data": {
      "text/plain": [
       "0     156.987852\n",
       "1    1121.787632\n",
       "2     158.687016\n",
       "3     209.645870\n",
       "4     514.240811\n",
       "Name: Stock Price, dtype: float64"
      ]
     },
     "execution_count": 8,
     "metadata": {},
     "output_type": "execute_result"
    }
   ],
   "source": [
    "y_data = df['Stock Price']\n",
    "y_data.head()"
   ]
  },
  {
   "cell_type": "code",
   "execution_count": 9,
   "metadata": {},
   "outputs": [
    {
     "data": {
      "text/html": [
       "<div>\n",
       "<style scoped>\n",
       "    .dataframe tbody tr th:only-of-type {\n",
       "        vertical-align: middle;\n",
       "    }\n",
       "\n",
       "    .dataframe tbody tr th {\n",
       "        vertical-align: top;\n",
       "    }\n",
       "\n",
       "    .dataframe thead th {\n",
       "        text-align: right;\n",
       "    }\n",
       "</style>\n",
       "<table border=\"1\" class=\"dataframe\">\n",
       "  <thead>\n",
       "    <tr style=\"text-align: right;\">\n",
       "      <th></th>\n",
       "      <th>VWAP</th>\n",
       "      <th>General Index</th>\n",
       "      <th>NAV</th>\n",
       "      <th>P/E Ratio</th>\n",
       "      <th>Volumes Traded</th>\n",
       "      <th>Inventory Turnover</th>\n",
       "      <th>Covid Impact (Beta)</th>\n",
       "      <th>Tracking Error</th>\n",
       "      <th>Dollar Exchange Rate</th>\n",
       "      <th>Put-Call Ratio</th>\n",
       "      <th>...</th>\n",
       "      <th>Industry-Energy</th>\n",
       "      <th>Industry-Healthcare</th>\n",
       "      <th>Industry-Information Tech</th>\n",
       "      <th>Industry-Materials</th>\n",
       "      <th>Industry-Real Estate</th>\n",
       "      <th>BSE</th>\n",
       "      <th>JSE</th>\n",
       "      <th>NSE</th>\n",
       "      <th>NYSE</th>\n",
       "      <th>S&amp;P 500</th>\n",
       "    </tr>\n",
       "  </thead>\n",
       "  <tbody>\n",
       "    <tr>\n",
       "      <th>0</th>\n",
       "      <td>0.725531</td>\n",
       "      <td>0.229099</td>\n",
       "      <td>0.323865</td>\n",
       "      <td>0.226784</td>\n",
       "      <td>0.059967</td>\n",
       "      <td>0.606242</td>\n",
       "      <td>-0.551282</td>\n",
       "      <td>0.845528</td>\n",
       "      <td>0.013351</td>\n",
       "      <td>0.472868</td>\n",
       "      <td>...</td>\n",
       "      <td>0</td>\n",
       "      <td>0</td>\n",
       "      <td>0</td>\n",
       "      <td>0</td>\n",
       "      <td>1</td>\n",
       "      <td>0</td>\n",
       "      <td>0</td>\n",
       "      <td>0</td>\n",
       "      <td>1</td>\n",
       "      <td>0</td>\n",
       "    </tr>\n",
       "    <tr>\n",
       "      <th>1</th>\n",
       "      <td>0.857979</td>\n",
       "      <td>0.685225</td>\n",
       "      <td>0.736747</td>\n",
       "      <td>0.758914</td>\n",
       "      <td>0.412653</td>\n",
       "      <td>0.576230</td>\n",
       "      <td>0.038462</td>\n",
       "      <td>0.700813</td>\n",
       "      <td>1.000000</td>\n",
       "      <td>0.860465</td>\n",
       "      <td>...</td>\n",
       "      <td>0</td>\n",
       "      <td>0</td>\n",
       "      <td>0</td>\n",
       "      <td>1</td>\n",
       "      <td>0</td>\n",
       "      <td>1</td>\n",
       "      <td>0</td>\n",
       "      <td>0</td>\n",
       "      <td>0</td>\n",
       "      <td>0</td>\n",
       "    </tr>\n",
       "    <tr>\n",
       "      <th>2</th>\n",
       "      <td>0.268967</td>\n",
       "      <td>0.685225</td>\n",
       "      <td>0.106321</td>\n",
       "      <td>0.765365</td>\n",
       "      <td>0.955812</td>\n",
       "      <td>0.965186</td>\n",
       "      <td>0.038462</td>\n",
       "      <td>0.559350</td>\n",
       "      <td>1.000000</td>\n",
       "      <td>0.891473</td>\n",
       "      <td>...</td>\n",
       "      <td>0</td>\n",
       "      <td>0</td>\n",
       "      <td>0</td>\n",
       "      <td>1</td>\n",
       "      <td>0</td>\n",
       "      <td>1</td>\n",
       "      <td>0</td>\n",
       "      <td>0</td>\n",
       "      <td>0</td>\n",
       "      <td>0</td>\n",
       "    </tr>\n",
       "    <tr>\n",
       "      <th>3</th>\n",
       "      <td>0.658271</td>\n",
       "      <td>0.229099</td>\n",
       "      <td>0.672234</td>\n",
       "      <td>0.148172</td>\n",
       "      <td>0.351590</td>\n",
       "      <td>0.704682</td>\n",
       "      <td>1.000000</td>\n",
       "      <td>0.302439</td>\n",
       "      <td>0.013351</td>\n",
       "      <td>0.581395</td>\n",
       "      <td>...</td>\n",
       "      <td>0</td>\n",
       "      <td>1</td>\n",
       "      <td>0</td>\n",
       "      <td>0</td>\n",
       "      <td>0</td>\n",
       "      <td>0</td>\n",
       "      <td>0</td>\n",
       "      <td>0</td>\n",
       "      <td>1</td>\n",
       "      <td>0</td>\n",
       "    </tr>\n",
       "    <tr>\n",
       "      <th>4</th>\n",
       "      <td>0.985081</td>\n",
       "      <td>0.202257</td>\n",
       "      <td>0.315063</td>\n",
       "      <td>0.798020</td>\n",
       "      <td>0.067529</td>\n",
       "      <td>0.326531</td>\n",
       "      <td>0.038462</td>\n",
       "      <td>0.868293</td>\n",
       "      <td>1.000000</td>\n",
       "      <td>0.945736</td>\n",
       "      <td>...</td>\n",
       "      <td>0</td>\n",
       "      <td>0</td>\n",
       "      <td>0</td>\n",
       "      <td>1</td>\n",
       "      <td>0</td>\n",
       "      <td>0</td>\n",
       "      <td>0</td>\n",
       "      <td>1</td>\n",
       "      <td>0</td>\n",
       "      <td>0</td>\n",
       "    </tr>\n",
       "  </tbody>\n",
       "</table>\n",
       "<p>5 rows × 21 columns</p>\n",
       "</div>"
      ],
      "text/plain": [
       "       VWAP  General Index       NAV  P/E Ratio  Volumes Traded  \\\n",
       "0  0.725531       0.229099  0.323865   0.226784        0.059967   \n",
       "1  0.857979       0.685225  0.736747   0.758914        0.412653   \n",
       "2  0.268967       0.685225  0.106321   0.765365        0.955812   \n",
       "3  0.658271       0.229099  0.672234   0.148172        0.351590   \n",
       "4  0.985081       0.202257  0.315063   0.798020        0.067529   \n",
       "\n",
       "   Inventory Turnover  Covid Impact (Beta)  Tracking Error  \\\n",
       "0            0.606242            -0.551282        0.845528   \n",
       "1            0.576230             0.038462        0.700813   \n",
       "2            0.965186             0.038462        0.559350   \n",
       "3            0.704682             1.000000        0.302439   \n",
       "4            0.326531             0.038462        0.868293   \n",
       "\n",
       "   Dollar Exchange Rate  Put-Call Ratio  ...  Industry-Energy  \\\n",
       "0              0.013351        0.472868  ...                0   \n",
       "1              1.000000        0.860465  ...                0   \n",
       "2              1.000000        0.891473  ...                0   \n",
       "3              0.013351        0.581395  ...                0   \n",
       "4              1.000000        0.945736  ...                0   \n",
       "\n",
       "   Industry-Healthcare  Industry-Information Tech  Industry-Materials  \\\n",
       "0                    0                          0                   0   \n",
       "1                    0                          0                   1   \n",
       "2                    0                          0                   1   \n",
       "3                    1                          0                   0   \n",
       "4                    0                          0                   1   \n",
       "\n",
       "   Industry-Real Estate  BSE  JSE  NSE  NYSE  S&P 500  \n",
       "0                     1    0    0    0     1        0  \n",
       "1                     0    1    0    0     0        0  \n",
       "2                     0    1    0    0     0        0  \n",
       "3                     0    0    0    0     1        0  \n",
       "4                     0    0    0    1     0        0  \n",
       "\n",
       "[5 rows x 21 columns]"
      ]
     },
     "execution_count": 9,
     "metadata": {},
     "output_type": "execute_result"
    }
   ],
   "source": [
    "x_data = df.drop(['Stock Price'], axis =1)\n",
    "x_data.head()"
   ]
  },
  {
   "cell_type": "code",
   "execution_count": null,
   "metadata": {},
   "outputs": [],
   "source": []
  },
  {
   "cell_type": "markdown",
   "metadata": {},
   "source": [
    "## Train Val split"
   ]
  },
  {
   "cell_type": "code",
   "execution_count": 10,
   "metadata": {},
   "outputs": [],
   "source": [
    "x_train, x_test, y_train, y_test = train_test_split(x_data, y_data, test_size=0.15, random_state=3)"
   ]
  },
  {
   "cell_type": "code",
   "execution_count": 11,
   "metadata": {},
   "outputs": [
    {
     "data": {
      "text/html": [
       "<div>\n",
       "<style scoped>\n",
       "    .dataframe tbody tr th:only-of-type {\n",
       "        vertical-align: middle;\n",
       "    }\n",
       "\n",
       "    .dataframe tbody tr th {\n",
       "        vertical-align: top;\n",
       "    }\n",
       "\n",
       "    .dataframe thead th {\n",
       "        text-align: right;\n",
       "    }\n",
       "</style>\n",
       "<table border=\"1\" class=\"dataframe\">\n",
       "  <thead>\n",
       "    <tr style=\"text-align: right;\">\n",
       "      <th></th>\n",
       "      <th>VWAP</th>\n",
       "      <th>General Index</th>\n",
       "      <th>NAV</th>\n",
       "      <th>P/E Ratio</th>\n",
       "      <th>Volumes Traded</th>\n",
       "      <th>Inventory Turnover</th>\n",
       "      <th>Covid Impact (Beta)</th>\n",
       "      <th>Tracking Error</th>\n",
       "      <th>Dollar Exchange Rate</th>\n",
       "      <th>Put-Call Ratio</th>\n",
       "      <th>...</th>\n",
       "      <th>Industry-Energy</th>\n",
       "      <th>Industry-Healthcare</th>\n",
       "      <th>Industry-Information Tech</th>\n",
       "      <th>Industry-Materials</th>\n",
       "      <th>Industry-Real Estate</th>\n",
       "      <th>BSE</th>\n",
       "      <th>JSE</th>\n",
       "      <th>NSE</th>\n",
       "      <th>NYSE</th>\n",
       "      <th>S&amp;P 500</th>\n",
       "    </tr>\n",
       "  </thead>\n",
       "  <tbody>\n",
       "    <tr>\n",
       "      <th>2157</th>\n",
       "      <td>0.315817</td>\n",
       "      <td>1.000000</td>\n",
       "      <td>0.816163</td>\n",
       "      <td>0.807271</td>\n",
       "      <td>0.046615</td>\n",
       "      <td>0.807923</td>\n",
       "      <td>0.038462</td>\n",
       "      <td>0.547967</td>\n",
       "      <td>0.236315</td>\n",
       "      <td>0.604651</td>\n",
       "      <td>...</td>\n",
       "      <td>0</td>\n",
       "      <td>0</td>\n",
       "      <td>0</td>\n",
       "      <td>1</td>\n",
       "      <td>0</td>\n",
       "      <td>0</td>\n",
       "      <td>1</td>\n",
       "      <td>0</td>\n",
       "      <td>0</td>\n",
       "      <td>0</td>\n",
       "    </tr>\n",
       "    <tr>\n",
       "      <th>763</th>\n",
       "      <td>0.932243</td>\n",
       "      <td>0.202257</td>\n",
       "      <td>0.760152</td>\n",
       "      <td>0.223033</td>\n",
       "      <td>0.837263</td>\n",
       "      <td>0.938776</td>\n",
       "      <td>0.141026</td>\n",
       "      <td>0.970732</td>\n",
       "      <td>1.000000</td>\n",
       "      <td>0.775194</td>\n",
       "      <td>...</td>\n",
       "      <td>1</td>\n",
       "      <td>0</td>\n",
       "      <td>0</td>\n",
       "      <td>0</td>\n",
       "      <td>0</td>\n",
       "      <td>0</td>\n",
       "      <td>0</td>\n",
       "      <td>1</td>\n",
       "      <td>0</td>\n",
       "      <td>0</td>\n",
       "    </tr>\n",
       "    <tr>\n",
       "      <th>6353</th>\n",
       "      <td>0.859492</td>\n",
       "      <td>0.685225</td>\n",
       "      <td>0.176235</td>\n",
       "      <td>0.316347</td>\n",
       "      <td>0.816963</td>\n",
       "      <td>0.397359</td>\n",
       "      <td>0.294872</td>\n",
       "      <td>0.282927</td>\n",
       "      <td>1.000000</td>\n",
       "      <td>0.682171</td>\n",
       "      <td>...</td>\n",
       "      <td>0</td>\n",
       "      <td>0</td>\n",
       "      <td>1</td>\n",
       "      <td>0</td>\n",
       "      <td>0</td>\n",
       "      <td>1</td>\n",
       "      <td>0</td>\n",
       "      <td>0</td>\n",
       "      <td>0</td>\n",
       "      <td>0</td>\n",
       "    </tr>\n",
       "    <tr>\n",
       "      <th>4854</th>\n",
       "      <td>0.443572</td>\n",
       "      <td>0.685225</td>\n",
       "      <td>0.822164</td>\n",
       "      <td>0.171476</td>\n",
       "      <td>0.668890</td>\n",
       "      <td>0.643457</td>\n",
       "      <td>-0.551282</td>\n",
       "      <td>0.863415</td>\n",
       "      <td>1.000000</td>\n",
       "      <td>0.635659</td>\n",
       "      <td>...</td>\n",
       "      <td>0</td>\n",
       "      <td>0</td>\n",
       "      <td>0</td>\n",
       "      <td>0</td>\n",
       "      <td>1</td>\n",
       "      <td>1</td>\n",
       "      <td>0</td>\n",
       "      <td>0</td>\n",
       "      <td>0</td>\n",
       "      <td>0</td>\n",
       "    </tr>\n",
       "    <tr>\n",
       "      <th>1506</th>\n",
       "      <td>0.655546</td>\n",
       "      <td>0.202257</td>\n",
       "      <td>0.265953</td>\n",
       "      <td>0.520828</td>\n",
       "      <td>0.661653</td>\n",
       "      <td>0.683073</td>\n",
       "      <td>0.038462</td>\n",
       "      <td>0.500813</td>\n",
       "      <td>1.000000</td>\n",
       "      <td>0.666667</td>\n",
       "      <td>...</td>\n",
       "      <td>0</td>\n",
       "      <td>0</td>\n",
       "      <td>0</td>\n",
       "      <td>1</td>\n",
       "      <td>0</td>\n",
       "      <td>0</td>\n",
       "      <td>0</td>\n",
       "      <td>1</td>\n",
       "      <td>0</td>\n",
       "      <td>0</td>\n",
       "    </tr>\n",
       "  </tbody>\n",
       "</table>\n",
       "<p>5 rows × 21 columns</p>\n",
       "</div>"
      ],
      "text/plain": [
       "          VWAP  General Index       NAV  P/E Ratio  Volumes Traded  \\\n",
       "2157  0.315817       1.000000  0.816163   0.807271        0.046615   \n",
       "763   0.932243       0.202257  0.760152   0.223033        0.837263   \n",
       "6353  0.859492       0.685225  0.176235   0.316347        0.816963   \n",
       "4854  0.443572       0.685225  0.822164   0.171476        0.668890   \n",
       "1506  0.655546       0.202257  0.265953   0.520828        0.661653   \n",
       "\n",
       "      Inventory Turnover  Covid Impact (Beta)  Tracking Error  \\\n",
       "2157            0.807923             0.038462        0.547967   \n",
       "763             0.938776             0.141026        0.970732   \n",
       "6353            0.397359             0.294872        0.282927   \n",
       "4854            0.643457            -0.551282        0.863415   \n",
       "1506            0.683073             0.038462        0.500813   \n",
       "\n",
       "      Dollar Exchange Rate  Put-Call Ratio  ...  Industry-Energy  \\\n",
       "2157              0.236315        0.604651  ...                0   \n",
       "763               1.000000        0.775194  ...                1   \n",
       "6353              1.000000        0.682171  ...                0   \n",
       "4854              1.000000        0.635659  ...                0   \n",
       "1506              1.000000        0.666667  ...                0   \n",
       "\n",
       "      Industry-Healthcare  Industry-Information Tech  Industry-Materials  \\\n",
       "2157                    0                          0                   1   \n",
       "763                     0                          0                   0   \n",
       "6353                    0                          1                   0   \n",
       "4854                    0                          0                   0   \n",
       "1506                    0                          0                   1   \n",
       "\n",
       "      Industry-Real Estate  BSE  JSE  NSE  NYSE  S&P 500  \n",
       "2157                     0    0    1    0     0        0  \n",
       "763                      0    0    0    1     0        0  \n",
       "6353                     0    1    0    0     0        0  \n",
       "4854                     1    1    0    0     0        0  \n",
       "1506                     0    0    0    1     0        0  \n",
       "\n",
       "[5 rows x 21 columns]"
      ]
     },
     "execution_count": 11,
     "metadata": {},
     "output_type": "execute_result"
    }
   ],
   "source": [
    "x_train.head()"
   ]
  },
  {
   "cell_type": "code",
   "execution_count": 12,
   "metadata": {},
   "outputs": [
    {
     "data": {
      "text/html": [
       "<div>\n",
       "<style scoped>\n",
       "    .dataframe tbody tr th:only-of-type {\n",
       "        vertical-align: middle;\n",
       "    }\n",
       "\n",
       "    .dataframe tbody tr th {\n",
       "        vertical-align: top;\n",
       "    }\n",
       "\n",
       "    .dataframe thead th {\n",
       "        text-align: right;\n",
       "    }\n",
       "</style>\n",
       "<table border=\"1\" class=\"dataframe\">\n",
       "  <thead>\n",
       "    <tr style=\"text-align: right;\">\n",
       "      <th></th>\n",
       "      <th>VWAP</th>\n",
       "      <th>General Index</th>\n",
       "      <th>NAV</th>\n",
       "      <th>P/E Ratio</th>\n",
       "      <th>Volumes Traded</th>\n",
       "      <th>Inventory Turnover</th>\n",
       "      <th>Covid Impact (Beta)</th>\n",
       "      <th>Tracking Error</th>\n",
       "      <th>Dollar Exchange Rate</th>\n",
       "      <th>Put-Call Ratio</th>\n",
       "      <th>...</th>\n",
       "      <th>Industry-Energy</th>\n",
       "      <th>Industry-Healthcare</th>\n",
       "      <th>Industry-Information Tech</th>\n",
       "      <th>Industry-Materials</th>\n",
       "      <th>Industry-Real Estate</th>\n",
       "      <th>BSE</th>\n",
       "      <th>JSE</th>\n",
       "      <th>NSE</th>\n",
       "      <th>NYSE</th>\n",
       "      <th>S&amp;P 500</th>\n",
       "    </tr>\n",
       "  </thead>\n",
       "  <tbody>\n",
       "    <tr>\n",
       "      <th>3724</th>\n",
       "      <td>0.148734</td>\n",
       "      <td>0.685225</td>\n",
       "      <td>0.674335</td>\n",
       "      <td>0.113367</td>\n",
       "      <td>0.785810</td>\n",
       "      <td>0.750300</td>\n",
       "      <td>-0.551282</td>\n",
       "      <td>0.642276</td>\n",
       "      <td>1.000000</td>\n",
       "      <td>0.720930</td>\n",
       "      <td>...</td>\n",
       "      <td>0</td>\n",
       "      <td>0</td>\n",
       "      <td>0</td>\n",
       "      <td>0</td>\n",
       "      <td>1</td>\n",
       "      <td>1</td>\n",
       "      <td>0</td>\n",
       "      <td>0</td>\n",
       "      <td>0</td>\n",
       "      <td>0</td>\n",
       "    </tr>\n",
       "    <tr>\n",
       "      <th>5629</th>\n",
       "      <td>0.239523</td>\n",
       "      <td>1.000000</td>\n",
       "      <td>0.422985</td>\n",
       "      <td>0.603341</td>\n",
       "      <td>0.604138</td>\n",
       "      <td>0.361345</td>\n",
       "      <td>0.038462</td>\n",
       "      <td>0.749593</td>\n",
       "      <td>0.236315</td>\n",
       "      <td>0.496124</td>\n",
       "      <td>...</td>\n",
       "      <td>0</td>\n",
       "      <td>0</td>\n",
       "      <td>0</td>\n",
       "      <td>1</td>\n",
       "      <td>0</td>\n",
       "      <td>0</td>\n",
       "      <td>1</td>\n",
       "      <td>0</td>\n",
       "      <td>0</td>\n",
       "      <td>0</td>\n",
       "    </tr>\n",
       "    <tr>\n",
       "      <th>125</th>\n",
       "      <td>0.617223</td>\n",
       "      <td>1.000000</td>\n",
       "      <td>0.371674</td>\n",
       "      <td>0.971446</td>\n",
       "      <td>0.473983</td>\n",
       "      <td>0.321729</td>\n",
       "      <td>-0.551282</td>\n",
       "      <td>0.926829</td>\n",
       "      <td>0.236315</td>\n",
       "      <td>0.945736</td>\n",
       "      <td>...</td>\n",
       "      <td>0</td>\n",
       "      <td>0</td>\n",
       "      <td>0</td>\n",
       "      <td>0</td>\n",
       "      <td>1</td>\n",
       "      <td>0</td>\n",
       "      <td>1</td>\n",
       "      <td>0</td>\n",
       "      <td>0</td>\n",
       "      <td>0</td>\n",
       "    </tr>\n",
       "    <tr>\n",
       "      <th>2554</th>\n",
       "      <td>0.080594</td>\n",
       "      <td>0.685225</td>\n",
       "      <td>0.241048</td>\n",
       "      <td>0.845577</td>\n",
       "      <td>0.395339</td>\n",
       "      <td>0.893157</td>\n",
       "      <td>1.000000</td>\n",
       "      <td>0.294309</td>\n",
       "      <td>1.000000</td>\n",
       "      <td>0.937984</td>\n",
       "      <td>...</td>\n",
       "      <td>0</td>\n",
       "      <td>1</td>\n",
       "      <td>0</td>\n",
       "      <td>0</td>\n",
       "      <td>0</td>\n",
       "      <td>1</td>\n",
       "      <td>0</td>\n",
       "      <td>0</td>\n",
       "      <td>0</td>\n",
       "      <td>0</td>\n",
       "    </tr>\n",
       "    <tr>\n",
       "      <th>425</th>\n",
       "      <td>0.152184</td>\n",
       "      <td>0.060143</td>\n",
       "      <td>0.899580</td>\n",
       "      <td>0.631295</td>\n",
       "      <td>0.831533</td>\n",
       "      <td>0.521008</td>\n",
       "      <td>-0.551282</td>\n",
       "      <td>0.349593</td>\n",
       "      <td>0.013351</td>\n",
       "      <td>0.767442</td>\n",
       "      <td>...</td>\n",
       "      <td>0</td>\n",
       "      <td>0</td>\n",
       "      <td>0</td>\n",
       "      <td>0</td>\n",
       "      <td>1</td>\n",
       "      <td>0</td>\n",
       "      <td>0</td>\n",
       "      <td>0</td>\n",
       "      <td>0</td>\n",
       "      <td>1</td>\n",
       "    </tr>\n",
       "  </tbody>\n",
       "</table>\n",
       "<p>5 rows × 21 columns</p>\n",
       "</div>"
      ],
      "text/plain": [
       "          VWAP  General Index       NAV  P/E Ratio  Volumes Traded  \\\n",
       "3724  0.148734       0.685225  0.674335   0.113367        0.785810   \n",
       "5629  0.239523       1.000000  0.422985   0.603341        0.604138   \n",
       "125   0.617223       1.000000  0.371674   0.971446        0.473983   \n",
       "2554  0.080594       0.685225  0.241048   0.845577        0.395339   \n",
       "425   0.152184       0.060143  0.899580   0.631295        0.831533   \n",
       "\n",
       "      Inventory Turnover  Covid Impact (Beta)  Tracking Error  \\\n",
       "3724            0.750300            -0.551282        0.642276   \n",
       "5629            0.361345             0.038462        0.749593   \n",
       "125             0.321729            -0.551282        0.926829   \n",
       "2554            0.893157             1.000000        0.294309   \n",
       "425             0.521008            -0.551282        0.349593   \n",
       "\n",
       "      Dollar Exchange Rate  Put-Call Ratio  ...  Industry-Energy  \\\n",
       "3724              1.000000        0.720930  ...                0   \n",
       "5629              0.236315        0.496124  ...                0   \n",
       "125               0.236315        0.945736  ...                0   \n",
       "2554              1.000000        0.937984  ...                0   \n",
       "425               0.013351        0.767442  ...                0   \n",
       "\n",
       "      Industry-Healthcare  Industry-Information Tech  Industry-Materials  \\\n",
       "3724                    0                          0                   0   \n",
       "5629                    0                          0                   1   \n",
       "125                     0                          0                   0   \n",
       "2554                    1                          0                   0   \n",
       "425                     0                          0                   0   \n",
       "\n",
       "      Industry-Real Estate  BSE  JSE  NSE  NYSE  S&P 500  \n",
       "3724                     1    1    0    0     0        0  \n",
       "5629                     0    0    1    0     0        0  \n",
       "125                      1    0    1    0     0        0  \n",
       "2554                     0    1    0    0     0        0  \n",
       "425                      1    0    0    0     0        1  \n",
       "\n",
       "[5 rows x 21 columns]"
      ]
     },
     "execution_count": 12,
     "metadata": {},
     "output_type": "execute_result"
    }
   ],
   "source": [
    "x_test.head()"
   ]
  },
  {
   "cell_type": "code",
   "execution_count": 13,
   "metadata": {},
   "outputs": [
    {
     "data": {
      "text/plain": [
       "2157    1301.951882\n",
       "763      357.706206\n",
       "6353     114.413428\n",
       "4854     279.634373\n",
       "1506     269.982070\n",
       "Name: Stock Price, dtype: float64"
      ]
     },
     "execution_count": 13,
     "metadata": {},
     "output_type": "execute_result"
    }
   ],
   "source": [
    "y_train.head()"
   ]
  },
  {
   "cell_type": "code",
   "execution_count": 14,
   "metadata": {},
   "outputs": [
    {
     "data": {
      "text/plain": [
       "3724     150.979829\n",
       "5629     498.888178\n",
       "125      715.361992\n",
       "2554     391.401967\n",
       "425     1133.235756\n",
       "Name: Stock Price, dtype: float64"
      ]
     },
     "execution_count": 14,
     "metadata": {},
     "output_type": "execute_result"
    }
   ],
   "source": [
    "y_test.head()"
   ]
  },
  {
   "cell_type": "markdown",
   "metadata": {},
   "source": [
    "### First we'll Try Linear Regression With All the features"
   ]
  },
  {
   "cell_type": "code",
   "execution_count": 15,
   "metadata": {},
   "outputs": [
    {
     "name": "stdout",
     "output_type": "stream",
     "text": [
      "The R-square is:  0.8877725748416626\n",
      "The mean square error of price and predicted value is:  20002.951063663484\n"
     ]
    },
    {
     "data": {
      "text/plain": [
       "<matplotlib.axes._subplots.AxesSubplot at 0x2d04fa0e08>"
      ]
     },
     "execution_count": 15,
     "metadata": {},
     "output_type": "execute_result"
    },
    {
     "data": {
      "image/png": "[encoded data removed]",
      "text/plain": [
       "<Figure size 432x288 with 1 Axes>"
      ]
     },
     "metadata": {
      "needs_background": "light"
     },
     "output_type": "display_data"
    }
   ],
   "source": [
    "lm = LinearRegression()\n",
    "\n",
    "lm.fit(x_train,y_train)\n",
    "\n",
    "Yhat=lm.predict(x_train)\n",
    "\n",
    "print('The R-square is: ', lm.score(x_train, y_train))\n",
    "mse = mean_squared_error(y_train, Yhat)\n",
    "print('The mean square error of price and predicted value is: ', mse)\n",
    "\n",
    "\n",
    "ax1 = sns.distplot(y_train, hist=False, color=\"r\", label=\"Actual Value\")\n",
    "sns.distplot(Yhat, hist=False, color=\"b\", label=\"Predicted Values\" , ax=ax1)"
   ]
  },
  {
   "cell_type": "code",
   "execution_count": 16,
   "metadata": {},
   "outputs": [
    {
     "name": "stdout",
     "output_type": "stream",
     "text": [
      "The R-square is:  0.8840197612322355\n",
      "The mean square error of price and predicted value is:  21126.379777111782\n"
     ]
    },
    {
     "data": {
      "text/plain": [
       "<matplotlib.axes._subplots.AxesSubplot at 0x2d057e4e08>"
      ]
     },
     "execution_count": 16,
     "metadata": {},
     "output_type": "execute_result"
    },
    {
     "data": {
      "image/png": "[encoded data removed]",
      "text/plain": [
       "<Figure size 432x288 with 1 Axes>"
      ]
     },
     "metadata": {
      "needs_background": "light"
     },
     "output_type": "display_data"
    }
   ],
   "source": [
    "Yhat=lm.predict(x_test)\n",
    "\n",
    "\n",
    "print('The R-square is: ', lm.score(x_test, y_test))\n",
    "mse = mean_squared_error(y_test, Yhat)\n",
    "print('The mean square error of price and predicted value is: ', mse)\n",
    "\n",
    "\n",
    "ax1 = sns.distplot(y_test, hist=False, color=\"r\", label=\"Actual Value\")\n",
    "sns.distplot(Yhat, hist=False, color=\"b\", label=\"Predicted Values\" , ax=ax1)"
   ]
  },
  {
   "cell_type": "code",
   "execution_count": 17,
   "metadata": {},
   "outputs": [
    {
     "name": "stdout",
     "output_type": "stream",
     "text": [
      "1123.4287134482984\n"
     ]
    }
   ],
   "source": [
    "print(21126.379777111782 - 20002.951063663484)"
   ]
  },
  {
   "cell_type": "markdown",
   "metadata": {},
   "source": [
    "#### R2 Scores for Training set and validation Set are 0.8877725748416626 and 0.8840197612322355. And Difference Between CrossVal loss and Train Loss is 1123.4287134482984"
   ]
  },
  {
   "cell_type": "markdown",
   "metadata": {},
   "source": [
    "### Training The Linear Regression Model on Correlated Features"
   ]
  },
  {
   "cell_type": "code",
   "execution_count": 18,
   "metadata": {},
   "outputs": [
    {
     "name": "stdout",
     "output_type": "stream",
     "text": [
      "The R-square is:  0.8871193839292637\n",
      "The mean square error of price and predicted value is:  20119.373104332335\n"
     ]
    },
    {
     "data": {
      "text/plain": [
       "<matplotlib.axes._subplots.AxesSubplot at 0x2d05832c88>"
      ]
     },
     "execution_count": 18,
     "metadata": {},
     "output_type": "execute_result"
    },
    {
     "data": {
      "image/png": "[encoded data removed]",
      "text/plain": [
       "<Figure size 432x288 with 1 Axes>"
      ]
     },
     "metadata": {
      "needs_background": "light"
     },
     "output_type": "display_data"
    }
   ],
   "source": [
    "lm = LinearRegression()\n",
    "\n",
    "x_train_new = x_train[['NAV', 'P/E Ratio']]\n",
    "\n",
    "lm.fit(x_train_new,y_train)\n",
    "\n",
    "Yhat=lm.predict(x_train_new)\n",
    "\n",
    "print('The R-square is: ', lm.score(x_train_new, y_train))\n",
    "mse = mean_squared_error(y_train, Yhat)\n",
    "print('The mean square error of price and predicted value is: ', mse)\n",
    "\n",
    "\n",
    "ax1 = sns.distplot(y_train, hist=False, color=\"r\", label=\"Actual Value\")\n",
    "sns.distplot(Yhat, hist=False, color=\"b\", label=\"Predicted Values\" , ax=ax1)"
   ]
  },
  {
   "cell_type": "code",
   "execution_count": 19,
   "metadata": {},
   "outputs": [
    {
     "name": "stdout",
     "output_type": "stream",
     "text": [
      "           NAV  P/E Ratio\n",
      "3724  0.674335   0.113367\n",
      "5629  0.422985   0.603341\n",
      "125   0.371674   0.971446\n",
      "2554  0.241048   0.845577\n",
      "425   0.899580   0.631295\n",
      "The R-square is:  0.883944791959816\n",
      "The mean square error of price and predicted value is:  21140.035804531406\n"
     ]
    },
    {
     "data": {
      "text/plain": [
       "<matplotlib.axes._subplots.AxesSubplot at 0x2d0589f3c8>"
      ]
     },
     "execution_count": 19,
     "metadata": {},
     "output_type": "execute_result"
    },
    {
     "data": {
      "image/png": "[encoded data removed]",
      "text/plain": [
       "<Figure size 432x288 with 1 Axes>"
      ]
     },
     "metadata": {
      "needs_background": "light"
     },
     "output_type": "display_data"
    }
   ],
   "source": [
    "x_test_new = x_test[['NAV', 'P/E Ratio']]\n",
    "print(x_test_new.head())\n",
    "Yhat=lm.predict(x_test_new)\n",
    "\n",
    "\n",
    "print('The R-square is: ', lm.score(x_test_new, y_test))\n",
    "mse = mean_squared_error(y_test, Yhat)\n",
    "print('The mean square error of price and predicted value is: ', mse)\n",
    "\n",
    "\n",
    "ax1 = sns.distplot(y_test, hist=False, color=\"r\", label=\"Actual Value\")\n",
    "sns.distplot(Yhat, hist=False, color=\"b\", label=\"Predicted Values\" , ax=ax1)"
   ]
  },
  {
   "cell_type": "markdown",
   "metadata": {},
   "source": [
    "#### It Shows that model is training only on 2 features...... So let us try some another non-linear approach"
   ]
  },
  {
   "cell_type": "markdown",
   "metadata": {},
   "source": [
    "### Random Forest Regressor with all the parameters"
   ]
  },
  {
   "cell_type": "code",
   "execution_count": 20,
   "metadata": {},
   "outputs": [
    {
     "name": "stdout",
     "output_type": "stream",
     "text": [
      "The R-square is:  0.9999165397753693\n",
      "The mean square error of price and predicted value is:  14.87560448521271\n"
     ]
    },
    {
     "data": {
      "text/plain": [
       "<matplotlib.axes._subplots.AxesSubplot at 0x2d059d3a08>"
      ]
     },
     "execution_count": 20,
     "metadata": {},
     "output_type": "execute_result"
    },
    {
     "data": {
      "image/png": "[encoded data removed]",
      "text/plain": [
       "<Figure size 432x288 with 1 Axes>"
      ]
     },
     "metadata": {
      "needs_background": "light"
     },
     "output_type": "display_data"
    }
   ],
   "source": [
    "lm = RandomForestRegressor(n_estimators = 100, random_state = 0)\n",
    "\n",
    "lm.fit(x_train,y_train)\n",
    "\n",
    "Yhat=lm.predict(x_train)\n",
    "\n",
    "print('The R-square is: ', lm.score(x_train, y_train))\n",
    "mse = mean_squared_error(y_train, Yhat)\n",
    "print('The mean square error of price and predicted value is: ', mse)\n",
    "\n",
    "\n",
    "ax1 = sns.distplot(y_train, hist=False, color=\"r\", label=\"Actual Value\")\n",
    "sns.distplot(Yhat, hist=False, color=\"b\", label=\"Predicted Values\" , ax=ax1)"
   ]
  },
  {
   "cell_type": "code",
   "execution_count": 21,
   "metadata": {},
   "outputs": [
    {
     "name": "stdout",
     "output_type": "stream",
     "text": [
      "The R-square is:  0.9995088170981483\n",
      "The mean square error of price and predicted value is:  89.47141887959326\n"
     ]
    },
    {
     "data": {
      "text/plain": [
       "<matplotlib.axes._subplots.AxesSubplot at 0x2d05a4c888>"
      ]
     },
     "execution_count": 21,
     "metadata": {},
     "output_type": "execute_result"
    },
    {
     "data": {
      "image/png": "[encoded data removed]",
      "text/plain": [
       "<Figure size 432x288 with 1 Axes>"
      ]
     },
     "metadata": {
      "needs_background": "light"
     },
     "output_type": "display_data"
    }
   ],
   "source": [
    "Yhat=lm.predict(x_test)\n",
    "\n",
    "\n",
    "print('The R-square is: ', lm.score(x_test, y_test))\n",
    "mse = mean_squared_error(y_test, Yhat)\n",
    "print('The mean square error of price and predicted value is: ', mse)\n",
    "\n",
    "\n",
    "ax1 = sns.distplot(y_test, hist=False, color=\"r\", label=\"Actual Value\")\n",
    "sns.distplot(Yhat, hist=False, color=\"b\", label=\"Predicted Values\" , ax=ax1)"
   ]
  },
  {
   "cell_type": "markdown",
   "metadata": {},
   "source": [
    "### Training Random Forest Regressor model on data without highly correlated features"
   ]
  },
  {
   "cell_type": "code",
   "execution_count": 22,
   "metadata": {},
   "outputs": [
    {
     "name": "stdout",
     "output_type": "stream",
     "text": [
      "The R-square is:  0.8509674129902638\n",
      "The mean square error of price and predicted value is:  26562.950550108526\n"
     ]
    },
    {
     "data": {
      "text/plain": [
       "<matplotlib.axes._subplots.AxesSubplot at 0x2d0ae7e988>"
      ]
     },
     "execution_count": 22,
     "metadata": {},
     "output_type": "execute_result"
    },
    {
     "data": {
      "image/png": "[encoded data removed]",
      "text/plain": [
       "<Figure size 432x288 with 1 Axes>"
      ]
     },
     "metadata": {
      "needs_background": "light"
     },
     "output_type": "display_data"
    }
   ],
   "source": [
    "lm = RandomForestRegressor(n_estimators = 100, random_state = 0)\n",
    "\n",
    "x_train_new = x_train.drop(['NAV', 'P/E Ratio'],axis = 1)\n",
    "\n",
    "lm.fit(x_train_new,y_train)\n",
    "\n",
    "Yhat=lm.predict(x_train_new)\n",
    "\n",
    "print('The R-square is: ', lm.score(x_train_new, y_train))\n",
    "mse = mean_squared_error(y_train, Yhat)\n",
    "print('The mean square error of price and predicted value is: ', mse)\n",
    "\n",
    "\n",
    "ax1 = sns.distplot(y_train, hist=False, color=\"r\", label=\"Actual Value\")\n",
    "sns.distplot(Yhat, hist=False, color=\"b\", label=\"Predicted Values\" , ax=ax1)"
   ]
  },
  {
   "cell_type": "code",
   "execution_count": 23,
   "metadata": {},
   "outputs": [
    {
     "name": "stdout",
     "output_type": "stream",
     "text": [
      "The R-square is:  -0.05114883956639793\n",
      "The mean square error of price and predicted value is:  191472.01129165318\n"
     ]
    },
    {
     "data": {
      "text/plain": [
       "<matplotlib.axes._subplots.AxesSubplot at 0x2d058c3f48>"
      ]
     },
     "execution_count": 23,
     "metadata": {},
     "output_type": "execute_result"
    },
    {
     "data": {
      "image/png": "[encoded data removed]",
      "text/plain": [
       "<Figure size 432x288 with 1 Axes>"
      ]
     },
     "metadata": {
      "needs_background": "light"
     },
     "output_type": "display_data"
    }
   ],
   "source": [
    "x_test_new = x_test.drop(['NAV','P/E Ratio'],axis = 1)\n",
    "\n",
    "Yhat=lm.predict(x_test_new)\n",
    "\n",
    "\n",
    "print('The R-square is: ', lm.score(x_test_new, y_test))\n",
    "mse = mean_squared_error(y_test, Yhat)\n",
    "print('The mean square error of price and predicted value is: ', mse)\n",
    "\n",
    "\n",
    "ax1 = sns.distplot(y_test, hist=False, color=\"r\", label=\"Actual Value\")\n",
    "sns.distplot(Yhat, hist=False, color=\"b\", label=\"Predicted Values\" , ax=ax1)"
   ]
  },
  {
   "cell_type": "markdown",
   "metadata": {},
   "source": [
    "#### R-square is negative So it is worst model"
   ]
  },
  {
   "cell_type": "code",
   "execution_count": 25,
   "metadata": {},
   "outputs": [],
   "source": [
    "def CalcRMSE(output2,target2):\n",
    "    error = output2-target2\n",
    "    error_sq = error**2\n",
    "    Sum_error_sq = np.sum(error_sq)\n",
    "    variance = Sum_error_sq/len(output2)\n",
    "    RMSE = variance**0.5\n",
    "    return RMSE"
   ]
  },
  {
   "cell_type": "markdown",
   "metadata": {},
   "source": [
    "## Random Forest algorithm with highly Correlated Features"
   ]
  },
  {
   "cell_type": "code",
   "execution_count": 26,
   "metadata": {},
   "outputs": [
    {
     "name": "stdout",
     "output_type": "stream",
     "text": [
      "The R-square is:  0.9999411676747245\n",
      "The mean square error of price and predicted value is:  10.486029789832404\n",
      "RMSE:  3.2382139814768887\n"
     ]
    },
    {
     "data": {
      "text/plain": [
       "<matplotlib.axes._subplots.AxesSubplot at 0x2d0c025188>"
      ]
     },
     "execution_count": 26,
     "metadata": {},
     "output_type": "execute_result"
    },
    {
     "data": {
      "image/png": "[encoded data removed]",
      "text/plain": [
       "<Figure size 432x288 with 1 Axes>"
      ]
     },
     "metadata": {
      "needs_background": "light"
     },
     "output_type": "display_data"
    }
   ],
   "source": [
    "lm = RandomForestRegressor(n_estimators = 100, random_state = 0)\n",
    "\n",
    "x_train_new = x_train[['NAV', 'P/E Ratio']]\n",
    "\n",
    "lm.fit(x_train_new,y_train)\n",
    "\n",
    "Yhat=lm.predict(x_train_new)\n",
    "\n",
    "print('The R-square is: ', lm.score(x_train_new, y_train))\n",
    "mse = mean_squared_error(y_train, Yhat)\n",
    "print('The mean square error of price and predicted value is: ', mse)\n",
    "print(\"RMSE: \",CalcRMSE(y_train, Yhat))\n",
    "\n",
    "ax1 = sns.distplot(y_train, hist=False, color=\"r\", label=\"Actual Value\")\n",
    "sns.distplot(Yhat, hist=False, color=\"b\", label=\"Predicted Values\" , ax=ax1)"
   ]
  },
  {
   "cell_type": "code",
   "execution_count": 27,
   "metadata": {},
   "outputs": [
    {
     "name": "stdout",
     "output_type": "stream",
     "text": [
      "The R-square is:  0.9996175583057706\n",
      "The mean square error of price and predicted value is:  69.66366478235747\n",
      "RMSE:  8.346476189527978\n"
     ]
    },
    {
     "data": {
      "text/plain": [
       "<matplotlib.axes._subplots.AxesSubplot at 0x2d0aaa39c8>"
      ]
     },
     "execution_count": 27,
     "metadata": {},
     "output_type": "execute_result"
    },
    {
     "data": {
      "image/png": "[encoded data removed]",
      "text/plain": [
       "<Figure size 432x288 with 1 Axes>"
      ]
     },
     "metadata": {
      "needs_background": "light"
     },
     "output_type": "display_data"
    }
   ],
   "source": [
    "x_test_new = x_test[['NAV','P/E Ratio']]\n",
    "\n",
    "Yhat=lm.predict(x_test_new)\n",
    "\n",
    "\n",
    "print('The R-square is: ', lm.score(x_test_new, y_test))\n",
    "mse = mean_squared_error(y_test, Yhat)\n",
    "print('The mean square error of price and predicted value is: ', mse)\n",
    "print(\"RMSE: \",CalcRMSE(y_test, Yhat))\n",
    "\n",
    "ax1 = sns.distplot(y_test, hist=False, color=\"r\", label=\"Actual Value\")\n",
    "sns.distplot(Yhat, hist=False, color=\"b\", label=\"Predicted Values\" , ax=ax1)"
   ]
  },
  {
   "cell_type": "code",
   "execution_count": null,
   "metadata": {},
   "outputs": [],
   "source": []
  },
  {
   "cell_type": "markdown",
   "metadata": {},
   "source": [
    "### Neural Network"
   ]
  },
  {
   "cell_type": "code",
   "execution_count": 57,
   "metadata": {},
   "outputs": [],
   "source": [
    "x_train_new = x_train.drop(['NAV', 'P/E Ratio'],axis = 1)\n",
    "x_test_new = x_test.drop(['NAV','P/E Ratio'],axis = 1)"
   ]
  },
  {
   "cell_type": "code",
   "execution_count": 58,
   "metadata": {},
   "outputs": [
    {
     "data": {
      "text/plain": [
       "(989, 19)"
      ]
     },
     "execution_count": 58,
     "metadata": {},
     "output_type": "execute_result"
    }
   ],
   "source": [
    "x_test_new.shape"
   ]
  },
  {
   "cell_type": "code",
   "execution_count": 59,
   "metadata": {},
   "outputs": [],
   "source": [
    "from keras.models import Sequential\n",
    "from keras.layers import Dense, Dropout"
   ]
  },
  {
   "cell_type": "code",
   "execution_count": 66,
   "metadata": {},
   "outputs": [],
   "source": [
    "# define regression model\n",
    "def regression_model():\n",
    "    # create model\n",
    "    model = Sequential()\n",
    "    model.add(Dense(30, activation='relu', input_shape=(n_cols,)))\n",
    "    model.add(Dropout(0.3))\n",
    "    model.add(Dense(20, activation='relu'))\n",
    "    model.add(Dropout(0.3))\n",
    "    model.add(Dense(1))\n",
    "    \n",
    "    # compile model\n",
    "    model.compile(optimizer='adam', loss='mean_squared_error')\n",
    "    return model"
   ]
  },
  {
   "cell_type": "code",
   "execution_count": 67,
   "metadata": {},
   "outputs": [],
   "source": [
    "# Building the model\n",
    "n_cols = x_train_new.shape[1]\n",
    "model = regression_model()"
   ]
  },
  {
   "cell_type": "code",
   "execution_count": 68,
   "metadata": {},
   "outputs": [
    {
     "name": "stdout",
     "output_type": "stream",
     "text": [
      "Model: \"sequential_9\"\n",
      "_________________________________________________________________\n",
      "Layer (type)                 Output Shape              Param #   \n",
      "=================================================================\n",
      "dense_22 (Dense)             (None, 30)                600       \n",
      "_________________________________________________________________\n",
      "dropout_11 (Dropout)         (None, 30)                0         \n",
      "_________________________________________________________________\n",
      "dense_23 (Dense)             (None, 20)                620       \n",
      "_________________________________________________________________\n",
      "dropout_12 (Dropout)         (None, 20)                0         \n",
      "_________________________________________________________________\n",
      "dense_24 (Dense)             (None, 1)                 21        \n",
      "=================================================================\n",
      "Total params: 1,241\n",
      "Trainable params: 1,241\n",
      "Non-trainable params: 0\n",
      "_________________________________________________________________\n"
     ]
    }
   ],
   "source": [
    "model.summary()"
   ]
  },
  {
   "cell_type": "code",
   "execution_count": 69,
   "metadata": {},
   "outputs": [
    {
     "name": "stdout",
     "output_type": "stream",
     "text": [
      "Train on 5603 samples, validate on 989 samples\n",
      "Epoch 1/30\n",
      "175/175 [==============================] - 6s 32ms/step - loss: 496132.3802 - val_loss: 14312.6406\n",
      "Epoch 2/30\n",
      "175/175 [==============================] - 3s 15ms/step - loss: 319643.9472 - val_loss: 6613.6094\n",
      "Epoch 3/30\n",
      "175/175 [==============================] - 2s 14ms/step - loss: 203558.5876 - val_loss: 6165.8068\n",
      "Epoch 4/30\n",
      "175/175 [==============================] - 2s 14ms/step - loss: 200837.4204 - val_loss: 6145.4729\n",
      "Epoch 5/30\n",
      "175/175 [==============================] - 3s 15ms/step - loss: 200365.3875 - val_loss: 6137.5323\n",
      "Epoch 6/30\n",
      "175/175 [==============================] - 3s 15ms/step - loss: 199783.4026 - val_loss: 6135.9693\n",
      "Epoch 7/30\n",
      "175/175 [==============================] - 2s 14ms/step - loss: 199452.7549 - val_loss: 6135.2359\n",
      "Epoch 8/30\n",
      "175/175 [==============================] - 2s 13ms/step - loss: 199035.6906 - val_loss: 6135.1927\n",
      "Epoch 9/30\n",
      "175/175 [==============================] - 2s 13ms/step - loss: 199105.2906 - val_loss: 6134.3380\n",
      "Epoch 10/30\n",
      "175/175 [==============================] - 2s 13ms/step - loss: 198845.9572 - val_loss: 6132.2047\n",
      "Epoch 11/30\n",
      "175/175 [==============================] - 2s 13ms/step - loss: 198714.2175 - val_loss: 6129.4026\n",
      "Epoch 12/30\n",
      "175/175 [==============================] - 2s 14ms/step - loss: 198580.2191 - val_loss: 6125.4802\n",
      "Epoch 13/30\n",
      "175/175 [==============================] - 2s 13ms/step - loss: 198315.0659 - val_loss: 6122.0260\n",
      "Epoch 14/30\n",
      "175/175 [==============================] - 2s 13ms/step - loss: 198243.3850 - val_loss: 6119.5370\n",
      "Epoch 15/30\n",
      "175/175 [==============================] - 2s 13ms/step - loss: 198256.2731 - val_loss: 6116.0464\n",
      "Epoch 16/30\n",
      "175/175 [==============================] - 2s 13ms/step - loss: 197907.4433 - val_loss: 6113.9698\n",
      "Epoch 17/30\n",
      "175/175 [==============================] - 2s 13ms/step - loss: 198043.4257 - val_loss: 6110.3901\n",
      "Epoch 18/30\n",
      "175/175 [==============================] - 2s 14ms/step - loss: 197721.8343 - val_loss: 6107.8724\n",
      "Epoch 19/30\n",
      "175/175 [==============================] - 2s 13ms/step - loss: 197701.1088 - val_loss: 6105.8010\n",
      "Epoch 20/30\n",
      "175/175 [==============================] - 2s 13ms/step - loss: 197583.6814 - val_loss: 6104.6969\n",
      "Epoch 21/30\n",
      "175/175 [==============================] - 2s 13ms/step - loss: 197644.5046 - val_loss: 6103.5130\n",
      "Epoch 22/30\n",
      "175/175 [==============================] - 2s 13ms/step - loss: 197566.4570 - val_loss: 6103.4766\n",
      "Epoch 23/30\n",
      "175/175 [==============================] - 2s 13ms/step - loss: 197441.1704 - val_loss: 6101.8276\n",
      "Epoch 24/30\n",
      "175/175 [==============================] - 2s 13ms/step - loss: 197481.4250 - val_loss: 6099.8406\n",
      "Epoch 25/30\n",
      "175/175 [==============================] - 2s 13ms/step - loss: 197406.1070 - val_loss: 6098.2542\n",
      "Epoch 26/30\n",
      "175/175 [==============================] - 2s 13ms/step - loss: 197240.3004 - val_loss: 6097.1786\n",
      "Epoch 27/30\n",
      "175/175 [==============================] - 2s 13ms/step - loss: 197342.1257 - val_loss: 6098.0661\n",
      "Epoch 28/30\n",
      "175/175 [==============================] - 2s 13ms/step - loss: 197166.8100 - val_loss: 6097.3594\n",
      "Epoch 29/30\n",
      "175/175 [==============================] - 2s 13ms/step - loss: 197224.0912 - val_loss: 6098.8505\n",
      "Epoch 30/30\n",
      "175/175 [==============================] - 2s 13ms/step - loss: 197060.6468 - val_loss: 6098.3755\n"
     ]
    }
   ],
   "source": [
    "hist = model.fit(x = x_train_new, y = y_train, epochs=30, validation_data = (x_test_new, y_test), shuffle = True, steps_per_epoch = 175, validation_steps = 30)"
   ]
  },
  {
   "cell_type": "markdown",
   "metadata": {},
   "source": [
    "### So it cannot train further .... And Also Validation loss is 6098.... Which is too large"
   ]
  },
  {
   "cell_type": "code",
   "execution_count": null,
   "metadata": {},
   "outputs": [],
   "source": []
  },
  {
   "cell_type": "markdown",
   "metadata": {},
   "source": [
    "### So We have tried all the possible comnbinations and strategies to fit the data in regression model."
   ]
  },
  {
   "cell_type": "markdown",
   "metadata": {},
   "source": [
    "### We have came accross the coclusion that Random Forest ALgorithm is the best method to fit our data"
   ]
  },
  {
   "cell_type": "code",
   "execution_count": null,
   "metadata": {},
   "outputs": [],
   "source": []
  },
  {
   "cell_type": "code",
   "execution_count": null,
   "metadata": {},
   "outputs": [],
   "source": []
  },
  {
   "cell_type": "code",
   "execution_count": null,
   "metadata": {},
   "outputs": [],
   "source": []
  },
  {
   "cell_type": "code",
   "execution_count": null,
   "metadata": {},
   "outputs": [],
   "source": []
  },
  {
   "cell_type": "code",
   "execution_count": null,
   "metadata": {},
   "outputs": [],
   "source": []
  },
  {
   "cell_type": "code",
   "execution_count": null,
   "metadata": {},
   "outputs": [],
   "source": []
  },
  {
   "cell_type": "code",
   "execution_count": null,
   "metadata": {},
   "outputs": [],
   "source": []
  },
  {
   "cell_type": "code",
   "execution_count": null,
   "metadata": {},
   "outputs": [],
   "source": []
  },
  {
   "cell_type": "code",
   "execution_count": null,
   "metadata": {},
   "outputs": [],
   "source": []
  },
  {
   "cell_type": "code",
   "execution_count": null,
   "metadata": {},
   "outputs": [],
   "source": []
  },
  {
   "cell_type": "code",
   "execution_count": null,
   "metadata": {},
   "outputs": [],
   "source": []
  },
  {
   "cell_type": "code",
   "execution_count": null,
   "metadata": {},
   "outputs": [],
   "source": []
  },
  {
   "cell_type": "code",
   "execution_count": null,
   "metadata": {},
   "outputs": [],
   "source": []
  },
  {
   "cell_type": "code",
   "execution_count": null,
   "metadata": {},
   "outputs": [],
   "source": []
  },
  {
   "cell_type": "code",
   "execution_count": null,
   "metadata": {},
   "outputs": [],
   "source": []
  },
  {
   "cell_type": "code",
   "execution_count": null,
   "metadata": {},
   "outputs": [],
   "source": []
  },
  {
   "cell_type": "code",
   "execution_count": null,
   "metadata": {},
   "outputs": [],
   "source": []
  },
  {
   "cell_type": "code",
   "execution_count": null,
   "metadata": {},
   "outputs": [],
   "source": []
  },
  {
   "cell_type": "code",
   "execution_count": null,
   "metadata": {},
   "outputs": [],
   "source": []
  },
  {
   "cell_type": "code",
   "execution_count": null,
   "metadata": {},
   "outputs": [],
   "source": []
  },
  {
   "cell_type": "code",
   "execution_count": null,
   "metadata": {},
   "outputs": [],
   "source": []
  },
  {
   "cell_type": "code",
   "execution_count": null,
   "metadata": {},
   "outputs": [],
   "source": []
  },
  {
   "cell_type": "code",
   "execution_count": null,
   "metadata": {},
   "outputs": [],
   "source": []
  },
  {
   "cell_type": "code",
   "execution_count": null,
   "metadata": {},
   "outputs": [],
   "source": []
  },
  {
   "cell_type": "code",
   "execution_count": null,
   "metadata": {},
   "outputs": [],
   "source": []
  }
 ],
 "metadata": {
  "kernelspec": {
   "display_name": "Python 3",
   "language": "python",
   "name": "python3"
  },
  "language_info": {
   "codemirror_mode": {
    "name": "ipython",
    "version": 3
   },
   "file_extension": ".py",
   "mimetype": "text/x-python",
   "name": "python",
   "nbconvert_exporter": "python",
   "pygments_lexer": "ipython3",
   "version": "3.7.6"
  }
 },
 "nbformat": 4,
 "nbformat_minor": 4
}
