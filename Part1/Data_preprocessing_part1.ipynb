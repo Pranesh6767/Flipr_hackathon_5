{
 "cells": [
  {
   "cell_type": "markdown",
   "metadata": {},
   "source": [
    "# Flipr Hackathon 5.0 Machine learning"
   ]
  },
  {
   "cell_type": "markdown",
   "metadata": {},
   "source": [
    "# Stock Market Price Prediction"
   ]
  },
  {
   "cell_type": "markdown",
   "metadata": {},
   "source": [
    "## Problem Statement 1: Prediction of Stock Price"
   ]
  },
  {
   "cell_type": "markdown",
   "metadata": {},
   "source": [
    "## Data Preprocessing"
   ]
  },
  {
   "cell_type": "markdown",
   "metadata": {},
   "source": [
    "## Importing Required Libraries"
   ]
  },
  {
   "cell_type": "code",
   "execution_count": 1,
   "metadata": {},
   "outputs": [],
   "source": [
    "import pandas as pd\n",
    "import numpy as np\n",
    "import matplotlib.pylab as plt\n",
    "import seaborn as sns"
   ]
  },
  {
   "cell_type": "markdown",
   "metadata": {},
   "source": [
    "## Importing the data"
   ]
  },
  {
   "cell_type": "code",
   "execution_count": 1,
   "metadata": {},
   "outputs": [
    {
     "ename": "NameError",
     "evalue": "name 'pd' is not defined",
     "output_type": "error",
     "traceback": [
      "\u001b[1;31m---------------------------------------------------------------------------\u001b[0m",
      "\u001b[1;31mNameError\u001b[0m                                 Traceback (most recent call last)",
      "\u001b[1;32m<ipython-input-1-d5137bdc866a>\u001b[0m in \u001b[0;36m<module>\u001b[1;34m\u001b[0m\n\u001b[1;32m----> 1\u001b[1;33m \u001b[0mraw_data\u001b[0m \u001b[1;33m=\u001b[0m \u001b[0mpd\u001b[0m\u001b[1;33m.\u001b[0m\u001b[0mread_excel\u001b[0m\u001b[1;33m(\u001b[0m\u001b[1;34m'Train_dataset.xlsx'\u001b[0m\u001b[1;33m,\u001b[0m\u001b[0msheet_name\u001b[0m \u001b[1;33m=\u001b[0m \u001b[1;36m0\u001b[0m\u001b[1;33m,\u001b[0m\u001b[0mheader\u001b[0m \u001b[1;33m=\u001b[0m \u001b[1;36m1\u001b[0m\u001b[1;33m)\u001b[0m\u001b[1;33m\u001b[0m\u001b[1;33m\u001b[0m\u001b[0m\n\u001b[0m",
      "\u001b[1;31mNameError\u001b[0m: name 'pd' is not defined"
     ]
    }
   ],
   "source": [
    "raw_data = pd.read_excel('Train_dataset.xlsx',sheet_name = 0,)"
   ]
  },
  {
   "cell_type": "code",
   "execution_count": 2,
   "metadata": {},
   "outputs": [
    {
     "ename": "NameError",
     "evalue": "name 'raw_data' is not defined",
     "output_type": "error",
     "traceback": [
      "\u001b[1;31m---------------------------------------------------------------------------\u001b[0m",
      "\u001b[1;31mNameError\u001b[0m                                 Traceback (most recent call last)",
      "\u001b[1;32m<ipython-input-2-dc20c911355d>\u001b[0m in \u001b[0;36m<module>\u001b[1;34m\u001b[0m\n\u001b[1;32m----> 1\u001b[1;33m \u001b[0mraw_data\u001b[0m\u001b[1;33m.\u001b[0m\u001b[0mhead\u001b[0m\u001b[1;33m(\u001b[0m\u001b[1;36m10\u001b[0m\u001b[1;33m)\u001b[0m\u001b[1;33m\u001b[0m\u001b[1;33m\u001b[0m\u001b[0m\n\u001b[0m",
      "\u001b[1;31mNameError\u001b[0m: name 'raw_data' is not defined"
     ]
    }
   ],
   "source": [
    "raw_data.head(10)"
   ]
  },
  {
   "cell_type": "code",
   "execution_count": 4,
   "metadata": {},
   "outputs": [],
   "source": [
    "get_ipython().run_line_magic('matplotlib', 'inline')"
   ]
  },
  {
   "cell_type": "markdown",
   "metadata": {},
   "source": [
    "## Data Wrangling"
   ]
  },
  {
   "cell_type": "markdown",
   "metadata": {},
   "source": [
    "### Detecting missing Values"
   ]
  },
  {
   "cell_type": "code",
   "execution_count": 5,
   "metadata": {},
   "outputs": [
    {
     "data": {
      "text/html": [
       "<div>\n",
       "<style scoped>\n",
       "    .dataframe tbody tr th:only-of-type {\n",
       "        vertical-align: middle;\n",
       "    }\n",
       "\n",
       "    .dataframe tbody tr th {\n",
       "        vertical-align: top;\n",
       "    }\n",
       "\n",
       "    .dataframe thead th {\n",
       "        text-align: right;\n",
       "    }\n",
       "</style>\n",
       "<table border=\"1\" class=\"dataframe\">\n",
       "  <thead>\n",
       "    <tr style=\"text-align: right;\">\n",
       "      <th></th>\n",
       "      <th>Stock Index</th>\n",
       "      <th>Index</th>\n",
       "      <th>Industry</th>\n",
       "      <th>VWAP</th>\n",
       "      <th>General Index</th>\n",
       "      <th>NAV</th>\n",
       "      <th>P/E Ratio</th>\n",
       "      <th>Volumes Traded</th>\n",
       "      <th>Inventory Turnover</th>\n",
       "      <th>Covid Impact (Beta)</th>\n",
       "      <th>Tracking Error</th>\n",
       "      <th>Dollar Exchange Rate</th>\n",
       "      <th>Put-Call Ratio</th>\n",
       "      <th>P/B Ratio</th>\n",
       "      <th>Stock Price</th>\n",
       "    </tr>\n",
       "  </thead>\n",
       "  <tbody>\n",
       "    <tr>\n",
       "      <th>0</th>\n",
       "      <td>False</td>\n",
       "      <td>False</td>\n",
       "      <td>False</td>\n",
       "      <td>False</td>\n",
       "      <td>False</td>\n",
       "      <td>False</td>\n",
       "      <td>False</td>\n",
       "      <td>False</td>\n",
       "      <td>False</td>\n",
       "      <td>False</td>\n",
       "      <td>False</td>\n",
       "      <td>False</td>\n",
       "      <td>False</td>\n",
       "      <td>False</td>\n",
       "      <td>False</td>\n",
       "    </tr>\n",
       "    <tr>\n",
       "      <th>1</th>\n",
       "      <td>False</td>\n",
       "      <td>False</td>\n",
       "      <td>False</td>\n",
       "      <td>False</td>\n",
       "      <td>False</td>\n",
       "      <td>False</td>\n",
       "      <td>False</td>\n",
       "      <td>False</td>\n",
       "      <td>False</td>\n",
       "      <td>False</td>\n",
       "      <td>False</td>\n",
       "      <td>False</td>\n",
       "      <td>True</td>\n",
       "      <td>False</td>\n",
       "      <td>False</td>\n",
       "    </tr>\n",
       "    <tr>\n",
       "      <th>2</th>\n",
       "      <td>False</td>\n",
       "      <td>False</td>\n",
       "      <td>False</td>\n",
       "      <td>False</td>\n",
       "      <td>False</td>\n",
       "      <td>False</td>\n",
       "      <td>False</td>\n",
       "      <td>False</td>\n",
       "      <td>False</td>\n",
       "      <td>False</td>\n",
       "      <td>False</td>\n",
       "      <td>False</td>\n",
       "      <td>True</td>\n",
       "      <td>False</td>\n",
       "      <td>False</td>\n",
       "    </tr>\n",
       "    <tr>\n",
       "      <th>3</th>\n",
       "      <td>False</td>\n",
       "      <td>False</td>\n",
       "      <td>False</td>\n",
       "      <td>False</td>\n",
       "      <td>False</td>\n",
       "      <td>False</td>\n",
       "      <td>False</td>\n",
       "      <td>False</td>\n",
       "      <td>False</td>\n",
       "      <td>False</td>\n",
       "      <td>False</td>\n",
       "      <td>False</td>\n",
       "      <td>False</td>\n",
       "      <td>False</td>\n",
       "      <td>False</td>\n",
       "    </tr>\n",
       "    <tr>\n",
       "      <th>4</th>\n",
       "      <td>False</td>\n",
       "      <td>False</td>\n",
       "      <td>False</td>\n",
       "      <td>True</td>\n",
       "      <td>False</td>\n",
       "      <td>False</td>\n",
       "      <td>True</td>\n",
       "      <td>False</td>\n",
       "      <td>False</td>\n",
       "      <td>False</td>\n",
       "      <td>False</td>\n",
       "      <td>False</td>\n",
       "      <td>False</td>\n",
       "      <td>False</td>\n",
       "      <td>False</td>\n",
       "    </tr>\n",
       "    <tr>\n",
       "      <th>5</th>\n",
       "      <td>False</td>\n",
       "      <td>False</td>\n",
       "      <td>False</td>\n",
       "      <td>False</td>\n",
       "      <td>False</td>\n",
       "      <td>False</td>\n",
       "      <td>False</td>\n",
       "      <td>False</td>\n",
       "      <td>False</td>\n",
       "      <td>False</td>\n",
       "      <td>False</td>\n",
       "      <td>False</td>\n",
       "      <td>False</td>\n",
       "      <td>False</td>\n",
       "      <td>False</td>\n",
       "    </tr>\n",
       "    <tr>\n",
       "      <th>6</th>\n",
       "      <td>False</td>\n",
       "      <td>False</td>\n",
       "      <td>False</td>\n",
       "      <td>False</td>\n",
       "      <td>False</td>\n",
       "      <td>False</td>\n",
       "      <td>False</td>\n",
       "      <td>False</td>\n",
       "      <td>False</td>\n",
       "      <td>False</td>\n",
       "      <td>False</td>\n",
       "      <td>False</td>\n",
       "      <td>False</td>\n",
       "      <td>False</td>\n",
       "      <td>False</td>\n",
       "    </tr>\n",
       "    <tr>\n",
       "      <th>7</th>\n",
       "      <td>False</td>\n",
       "      <td>False</td>\n",
       "      <td>False</td>\n",
       "      <td>False</td>\n",
       "      <td>False</td>\n",
       "      <td>True</td>\n",
       "      <td>False</td>\n",
       "      <td>True</td>\n",
       "      <td>True</td>\n",
       "      <td>False</td>\n",
       "      <td>False</td>\n",
       "      <td>False</td>\n",
       "      <td>False</td>\n",
       "      <td>False</td>\n",
       "      <td>False</td>\n",
       "    </tr>\n",
       "    <tr>\n",
       "      <th>8</th>\n",
       "      <td>False</td>\n",
       "      <td>False</td>\n",
       "      <td>False</td>\n",
       "      <td>False</td>\n",
       "      <td>False</td>\n",
       "      <td>False</td>\n",
       "      <td>False</td>\n",
       "      <td>False</td>\n",
       "      <td>False</td>\n",
       "      <td>False</td>\n",
       "      <td>False</td>\n",
       "      <td>False</td>\n",
       "      <td>False</td>\n",
       "      <td>False</td>\n",
       "      <td>False</td>\n",
       "    </tr>\n",
       "    <tr>\n",
       "      <th>9</th>\n",
       "      <td>False</td>\n",
       "      <td>False</td>\n",
       "      <td>False</td>\n",
       "      <td>False</td>\n",
       "      <td>False</td>\n",
       "      <td>False</td>\n",
       "      <td>False</td>\n",
       "      <td>False</td>\n",
       "      <td>False</td>\n",
       "      <td>False</td>\n",
       "      <td>False</td>\n",
       "      <td>True</td>\n",
       "      <td>False</td>\n",
       "      <td>False</td>\n",
       "      <td>False</td>\n",
       "    </tr>\n",
       "  </tbody>\n",
       "</table>\n",
       "</div>"
      ],
      "text/plain": [
       "   Stock Index  Index  Industry   VWAP  General Index    NAV  P/E Ratio  \\\n",
       "0        False  False     False  False          False  False      False   \n",
       "1        False  False     False  False          False  False      False   \n",
       "2        False  False     False  False          False  False      False   \n",
       "3        False  False     False  False          False  False      False   \n",
       "4        False  False     False   True          False  False       True   \n",
       "5        False  False     False  False          False  False      False   \n",
       "6        False  False     False  False          False  False      False   \n",
       "7        False  False     False  False          False   True      False   \n",
       "8        False  False     False  False          False  False      False   \n",
       "9        False  False     False  False          False  False      False   \n",
       "\n",
       "   Volumes Traded  Inventory Turnover  Covid Impact (Beta)  Tracking Error  \\\n",
       "0           False               False                False           False   \n",
       "1           False               False                False           False   \n",
       "2           False               False                False           False   \n",
       "3           False               False                False           False   \n",
       "4           False               False                False           False   \n",
       "5           False               False                False           False   \n",
       "6           False               False                False           False   \n",
       "7            True                True                False           False   \n",
       "8           False               False                False           False   \n",
       "9           False               False                False           False   \n",
       "\n",
       "   Dollar Exchange Rate  Put-Call Ratio  P/B Ratio  Stock Price  \n",
       "0                 False           False      False        False  \n",
       "1                 False            True      False        False  \n",
       "2                 False            True      False        False  \n",
       "3                 False           False      False        False  \n",
       "4                 False           False      False        False  \n",
       "5                 False           False      False        False  \n",
       "6                 False           False      False        False  \n",
       "7                 False           False      False        False  \n",
       "8                 False           False      False        False  \n",
       "9                  True           False      False        False  "
      ]
     },
     "execution_count": 5,
     "metadata": {},
     "output_type": "execute_result"
    }
   ],
   "source": [
    "missing_data = raw_data.isnull()\n",
    "missing_data.head(10)"
   ]
  },
  {
   "cell_type": "code",
   "execution_count": 6,
   "metadata": {},
   "outputs": [
    {
     "name": "stdout",
     "output_type": "stream",
     "text": [
      "Stock Index\n",
      "False    7383\n",
      "Name: Stock Index, dtype: int64\n",
      "\n",
      "Index\n",
      "False    7383\n",
      "Name: Index, dtype: int64\n",
      "\n",
      "Industry\n",
      "False    7383\n",
      "Name: Industry, dtype: int64\n",
      "\n",
      "VWAP\n",
      "False    7345\n",
      "True       38\n",
      "Name: VWAP, dtype: int64\n",
      "\n",
      "General Index\n",
      "False    7321\n",
      "True       62\n",
      "Name: General Index, dtype: int64\n",
      "\n",
      "NAV\n",
      "False    7322\n",
      "True       61\n",
      "Name: NAV, dtype: int64\n",
      "\n",
      "P/E Ratio\n",
      "False    7149\n",
      "True      234\n",
      "Name: P/E Ratio, dtype: int64\n",
      "\n",
      "Volumes Traded\n",
      "False    7115\n",
      "True      268\n",
      "Name: Volumes Traded, dtype: int64\n",
      "\n",
      "Inventory Turnover\n",
      "False    6984\n",
      "True      399\n",
      "Name: Inventory Turnover, dtype: int64\n",
      "\n",
      "Covid Impact (Beta)\n",
      "False    7007\n",
      "True      376\n",
      "Name: Covid Impact (Beta), dtype: int64\n",
      "\n",
      "Tracking Error\n",
      "False    7312\n",
      "True       71\n",
      "Name: Tracking Error, dtype: int64\n",
      "\n",
      "Dollar Exchange Rate\n",
      "False    7306\n",
      "True       77\n",
      "Name: Dollar Exchange Rate, dtype: int64\n",
      "\n",
      "Put-Call Ratio\n",
      "False    7298\n",
      "True       85\n",
      "Name: Put-Call Ratio, dtype: int64\n",
      "\n",
      "P/B Ratio\n",
      "False    7358\n",
      "True       25\n",
      "Name: P/B Ratio, dtype: int64\n",
      "\n",
      "Stock Price\n",
      "False    7383\n",
      "Name: Stock Price, dtype: int64\n",
      "\n"
     ]
    }
   ],
   "source": [
    "for column in missing_data.columns.values.tolist():\n",
    "    print(column)\n",
    "    print (missing_data[column].value_counts())\n",
    "    print(\"\")"
   ]
  },
  {
   "cell_type": "code",
   "execution_count": 7,
   "metadata": {},
   "outputs": [],
   "source": [
    "# simply drop whole row with NaN in \"price\" column\n",
    "raw_data.dropna(subset=[\"VWAP\",\"General Index\",\"NAV\",\"Tracking Error\",\"Dollar Exchange Rate\",\"Put-Call Ratio\",\"P/B Ratio\"], axis=0, inplace=True)"
   ]
  },
  {
   "cell_type": "code",
   "execution_count": 8,
   "metadata": {},
   "outputs": [
    {
     "data": {
      "text/plain": [
       "7136"
      ]
     },
     "execution_count": 8,
     "metadata": {},
     "output_type": "execute_result"
    }
   ],
   "source": [
    "len(raw_data)"
   ]
  },
  {
   "cell_type": "code",
   "execution_count": 9,
   "metadata": {},
   "outputs": [
    {
     "name": "stdout",
     "output_type": "stream",
     "text": [
      "Stock Index\n",
      "False    7136\n",
      "Name: Stock Index, dtype: int64\n",
      "\n",
      "Index\n",
      "False    7136\n",
      "Name: Index, dtype: int64\n",
      "\n",
      "Industry\n",
      "False    7136\n",
      "Name: Industry, dtype: int64\n",
      "\n",
      "VWAP\n",
      "False    7136\n",
      "Name: VWAP, dtype: int64\n",
      "\n",
      "General Index\n",
      "False    7136\n",
      "Name: General Index, dtype: int64\n",
      "\n",
      "NAV\n",
      "False    7136\n",
      "Name: NAV, dtype: int64\n",
      "\n",
      "P/E Ratio\n",
      "False    6965\n",
      "True      171\n",
      "Name: P/E Ratio, dtype: int64\n",
      "\n",
      "Volumes Traded\n",
      "False    6912\n",
      "True      224\n",
      "Name: Volumes Traded, dtype: int64\n",
      "\n",
      "Inventory Turnover\n",
      "False    6771\n",
      "True      365\n",
      "Name: Inventory Turnover, dtype: int64\n",
      "\n",
      "Covid Impact (Beta)\n",
      "False    6832\n",
      "True      304\n",
      "Name: Covid Impact (Beta), dtype: int64\n",
      "\n",
      "Tracking Error\n",
      "False    7136\n",
      "Name: Tracking Error, dtype: int64\n",
      "\n",
      "Dollar Exchange Rate\n",
      "False    7136\n",
      "Name: Dollar Exchange Rate, dtype: int64\n",
      "\n",
      "Put-Call Ratio\n",
      "False    7136\n",
      "Name: Put-Call Ratio, dtype: int64\n",
      "\n",
      "P/B Ratio\n",
      "False    7136\n",
      "Name: P/B Ratio, dtype: int64\n",
      "\n",
      "Stock Price\n",
      "False    7136\n",
      "Name: Stock Price, dtype: int64\n",
      "\n"
     ]
    }
   ],
   "source": [
    "missing_data = raw_data.isnull()\n",
    "for column in missing_data.columns.values.tolist():\n",
    "    print(column)\n",
    "    print (missing_data[column].value_counts())\n",
    "    print(\"\")"
   ]
  },
  {
   "cell_type": "code",
   "execution_count": 10,
   "metadata": {},
   "outputs": [],
   "source": [
    "# simply drop whole row with NaN in \"price\" column\n",
    "raw_data.dropna(subset=[\"P/E Ratio\",\"Volumes Traded\"], axis=0, inplace=True)"
   ]
  },
  {
   "cell_type": "code",
   "execution_count": 11,
   "metadata": {},
   "outputs": [
    {
     "data": {
      "text/plain": [
       "6896"
      ]
     },
     "execution_count": 11,
     "metadata": {},
     "output_type": "execute_result"
    }
   ],
   "source": [
    "len(raw_data)"
   ]
  },
  {
   "cell_type": "code",
   "execution_count": 12,
   "metadata": {},
   "outputs": [],
   "source": [
    "raw_data.dropna(subset=[\"Inventory Turnover\",\"Covid Impact (Beta)\"], axis=0, inplace=True)"
   ]
  },
  {
   "cell_type": "code",
   "execution_count": 13,
   "metadata": {},
   "outputs": [
    {
     "data": {
      "text/plain": [
       "6592"
      ]
     },
     "execution_count": 13,
     "metadata": {},
     "output_type": "execute_result"
    }
   ],
   "source": [
    "len(raw_data)"
   ]
  },
  {
   "cell_type": "markdown",
   "metadata": {},
   "source": [
    "#### Still we have enough data to train the model. But we are atleast sure that we're training the model on true data. Since we've strictly droped rows containing null values instead of replacing them by mean value"
   ]
  },
  {
   "cell_type": "code",
   "execution_count": 14,
   "metadata": {},
   "outputs": [],
   "source": [
    "raw_data.reset_index(drop=True, inplace=True)"
   ]
  },
  {
   "cell_type": "code",
   "execution_count": 15,
   "metadata": {},
   "outputs": [
    {
     "name": "stdout",
     "output_type": "stream",
     "text": [
      "Stock Index\n",
      "False    6592\n",
      "Name: Stock Index, dtype: int64\n",
      "\n",
      "Index\n",
      "False    6592\n",
      "Name: Index, dtype: int64\n",
      "\n",
      "Industry\n",
      "False    6592\n",
      "Name: Industry, dtype: int64\n",
      "\n",
      "VWAP\n",
      "False    6592\n",
      "Name: VWAP, dtype: int64\n",
      "\n",
      "General Index\n",
      "False    6592\n",
      "Name: General Index, dtype: int64\n",
      "\n",
      "NAV\n",
      "False    6592\n",
      "Name: NAV, dtype: int64\n",
      "\n",
      "P/E Ratio\n",
      "False    6592\n",
      "Name: P/E Ratio, dtype: int64\n",
      "\n",
      "Volumes Traded\n",
      "False    6592\n",
      "Name: Volumes Traded, dtype: int64\n",
      "\n",
      "Inventory Turnover\n",
      "False    6592\n",
      "Name: Inventory Turnover, dtype: int64\n",
      "\n",
      "Covid Impact (Beta)\n",
      "False    6592\n",
      "Name: Covid Impact (Beta), dtype: int64\n",
      "\n",
      "Tracking Error\n",
      "False    6592\n",
      "Name: Tracking Error, dtype: int64\n",
      "\n",
      "Dollar Exchange Rate\n",
      "False    6592\n",
      "Name: Dollar Exchange Rate, dtype: int64\n",
      "\n",
      "Put-Call Ratio\n",
      "False    6592\n",
      "Name: Put-Call Ratio, dtype: int64\n",
      "\n",
      "P/B Ratio\n",
      "False    6592\n",
      "Name: P/B Ratio, dtype: int64\n",
      "\n",
      "Stock Price\n",
      "False    6592\n",
      "Name: Stock Price, dtype: int64\n",
      "\n"
     ]
    }
   ],
   "source": [
    "missing_data = raw_data.isnull()\n",
    "for column in missing_data.columns.values.tolist():\n",
    "    print(column)\n",
    "    print (missing_data[column].value_counts())\n",
    "    print(\"\")"
   ]
  },
  {
   "cell_type": "code",
   "execution_count": 16,
   "metadata": {},
   "outputs": [],
   "source": [
    "cleaned_data = raw_data.copy()"
   ]
  },
  {
   "cell_type": "code",
   "execution_count": 17,
   "metadata": {},
   "outputs": [
    {
     "data": {
      "text/plain": [
       "6592"
      ]
     },
     "execution_count": 17,
     "metadata": {},
     "output_type": "execute_result"
    }
   ],
   "source": [
    "len(cleaned_data)"
   ]
  },
  {
   "cell_type": "code",
   "execution_count": 18,
   "metadata": {},
   "outputs": [],
   "source": [
    "cleaned_data.to_excel('cleaned_data.xlsx')"
   ]
  },
  {
   "cell_type": "code",
   "execution_count": 19,
   "metadata": {},
   "outputs": [
    {
     "data": {
      "text/plain": [
       "Stock Index              object\n",
       "Index                    object\n",
       "Industry                 object\n",
       "VWAP                    float64\n",
       "General Index           float64\n",
       "NAV                     float64\n",
       "P/E Ratio               float64\n",
       "Volumes Traded          float64\n",
       "Inventory Turnover      float64\n",
       "Covid Impact (Beta)     float64\n",
       "Tracking Error          float64\n",
       "Dollar Exchange Rate    float64\n",
       "Put-Call Ratio          float64\n",
       "P/B Ratio               float64\n",
       "Stock Price             float64\n",
       "dtype: object"
      ]
     },
     "execution_count": 19,
     "metadata": {},
     "output_type": "execute_result"
    }
   ],
   "source": [
    "cleaned_data.dtypes"
   ]
  },
  {
   "cell_type": "markdown",
   "metadata": {},
   "source": [
    "## Data normalization"
   ]
  },
  {
   "cell_type": "code",
   "execution_count": 20,
   "metadata": {},
   "outputs": [
    {
     "name": "stdout",
     "output_type": "stream",
     "text": [
      "Factor VWAP:  965.21\n",
      "Factor General Index:  55722.0\n",
      "Factor NAV:  99.98\n",
      "P/E Ratio:  199.97\n",
      "Volumes Traded:  20154452.0\n",
      "Inventory Turnover:  8.33\n",
      "Covid Impact (Beta):  0.78\n",
      "Tracking Error:  0.061500000000000006\n",
      "P/B Ratio:  9.56\n",
      "Dollar Exchange Rate:  74.9\n",
      "Put-Call Ratio:  1.29\n"
     ]
    }
   ],
   "source": [
    "# replace (original value) by (original value)/(maximum value)\n",
    "print('Factor VWAP: ',cleaned_data['VWAP'].max())\n",
    "cleaned_data['VWAP'] = cleaned_data['VWAP']/cleaned_data['VWAP'].max()\n",
    "\n",
    "print('Factor General Index: ',cleaned_data['General Index'].max())\n",
    "cleaned_data['General Index'] = cleaned_data['General Index']/cleaned_data['General Index'].max()\n",
    "\n",
    "print('Factor NAV: ',cleaned_data['NAV'].max())\n",
    "cleaned_data['NAV'] = cleaned_data['NAV']/cleaned_data['NAV'].max()\n",
    "\n",
    "print('P/E Ratio: ',cleaned_data['P/E Ratio'].max())\n",
    "cleaned_data['P/E Ratio'] = cleaned_data['P/E Ratio']/cleaned_data['P/E Ratio'].max()\n",
    "\n",
    "print('Volumes Traded: ',cleaned_data['Volumes Traded'].max())\n",
    "cleaned_data['Volumes Traded'] = cleaned_data['Volumes Traded']/cleaned_data['Volumes Traded'].max()\n",
    "\n",
    "print('Inventory Turnover: ',cleaned_data['Inventory Turnover'].max())\n",
    "cleaned_data['Inventory Turnover'] = cleaned_data['Inventory Turnover']/cleaned_data['Inventory Turnover'].max()\n",
    "\n",
    "print('Covid Impact (Beta): ',cleaned_data['Covid Impact (Beta)'].max())\n",
    "cleaned_data['Covid Impact (Beta)'] = cleaned_data['Covid Impact (Beta)']/cleaned_data['Covid Impact (Beta)'].max()\n",
    "\n",
    "print('Tracking Error: ',cleaned_data['Tracking Error'].max())\n",
    "cleaned_data['Tracking Error'] = cleaned_data['Tracking Error']/cleaned_data['Tracking Error'].max()\n",
    "\n",
    "print('P/B Ratio: ',cleaned_data['P/B Ratio'].max())\n",
    "cleaned_data['P/B Ratio'] = cleaned_data['P/B Ratio']/cleaned_data['P/B Ratio'].max()\n",
    "\n",
    "print('Dollar Exchange Rate: ',cleaned_data['Dollar Exchange Rate'].max())\n",
    "cleaned_data['Dollar Exchange Rate'] = cleaned_data['Dollar Exchange Rate']/cleaned_data['Dollar Exchange Rate'].max()\n",
    "\n",
    "print('Put-Call Ratio: ',cleaned_data['Put-Call Ratio'].max())\n",
    "cleaned_data['Put-Call Ratio'] = cleaned_data['Put-Call Ratio']/cleaned_data['Put-Call Ratio'].max()"
   ]
  },
  {
   "cell_type": "code",
   "execution_count": 21,
   "metadata": {},
   "outputs": [
    {
     "data": {
      "text/html": [
       "<div>\n",
       "<style scoped>\n",
       "    .dataframe tbody tr th:only-of-type {\n",
       "        vertical-align: middle;\n",
       "    }\n",
       "\n",
       "    .dataframe tbody tr th {\n",
       "        vertical-align: top;\n",
       "    }\n",
       "\n",
       "    .dataframe thead th {\n",
       "        text-align: right;\n",
       "    }\n",
       "</style>\n",
       "<table border=\"1\" class=\"dataframe\">\n",
       "  <thead>\n",
       "    <tr style=\"text-align: right;\">\n",
       "      <th></th>\n",
       "      <th>Stock Index</th>\n",
       "      <th>Index</th>\n",
       "      <th>Industry</th>\n",
       "      <th>VWAP</th>\n",
       "      <th>General Index</th>\n",
       "      <th>NAV</th>\n",
       "      <th>P/E Ratio</th>\n",
       "      <th>Volumes Traded</th>\n",
       "      <th>Inventory Turnover</th>\n",
       "      <th>Covid Impact (Beta)</th>\n",
       "      <th>Tracking Error</th>\n",
       "      <th>Dollar Exchange Rate</th>\n",
       "      <th>Put-Call Ratio</th>\n",
       "      <th>P/B Ratio</th>\n",
       "      <th>Stock Price</th>\n",
       "    </tr>\n",
       "  </thead>\n",
       "  <tbody>\n",
       "    <tr>\n",
       "      <th>0</th>\n",
       "      <td>AA1</td>\n",
       "      <td>NYSE</td>\n",
       "      <td>Real Estate</td>\n",
       "      <td>0.725531</td>\n",
       "      <td>0.229099</td>\n",
       "      <td>0.323865</td>\n",
       "      <td>0.226784</td>\n",
       "      <td>0.059967</td>\n",
       "      <td>0.606242</td>\n",
       "      <td>-0.551282</td>\n",
       "      <td>0.845528</td>\n",
       "      <td>0.013351</td>\n",
       "      <td>0.472868</td>\n",
       "      <td>0.962343</td>\n",
       "      <td>156.987852</td>\n",
       "    </tr>\n",
       "    <tr>\n",
       "      <th>1</th>\n",
       "      <td>AA4</td>\n",
       "      <td>BSE</td>\n",
       "      <td>Materials</td>\n",
       "      <td>0.857979</td>\n",
       "      <td>0.685225</td>\n",
       "      <td>0.736747</td>\n",
       "      <td>0.758914</td>\n",
       "      <td>0.412653</td>\n",
       "      <td>0.576230</td>\n",
       "      <td>0.038462</td>\n",
       "      <td>0.700813</td>\n",
       "      <td>1.000000</td>\n",
       "      <td>0.860465</td>\n",
       "      <td>0.585774</td>\n",
       "      <td>1121.787632</td>\n",
       "    </tr>\n",
       "    <tr>\n",
       "      <th>2</th>\n",
       "      <td>AA6</td>\n",
       "      <td>BSE</td>\n",
       "      <td>Materials</td>\n",
       "      <td>0.268967</td>\n",
       "      <td>0.685225</td>\n",
       "      <td>0.106321</td>\n",
       "      <td>0.765365</td>\n",
       "      <td>0.955812</td>\n",
       "      <td>0.965186</td>\n",
       "      <td>0.038462</td>\n",
       "      <td>0.559350</td>\n",
       "      <td>1.000000</td>\n",
       "      <td>0.891473</td>\n",
       "      <td>0.576360</td>\n",
       "      <td>158.687016</td>\n",
       "    </tr>\n",
       "    <tr>\n",
       "      <th>3</th>\n",
       "      <td>AA7</td>\n",
       "      <td>NYSE</td>\n",
       "      <td>Healthcare</td>\n",
       "      <td>0.658271</td>\n",
       "      <td>0.229099</td>\n",
       "      <td>0.672234</td>\n",
       "      <td>0.148172</td>\n",
       "      <td>0.351590</td>\n",
       "      <td>0.704682</td>\n",
       "      <td>1.000000</td>\n",
       "      <td>0.302439</td>\n",
       "      <td>0.013351</td>\n",
       "      <td>0.581395</td>\n",
       "      <td>0.899582</td>\n",
       "      <td>209.645870</td>\n",
       "    </tr>\n",
       "    <tr>\n",
       "      <th>4</th>\n",
       "      <td>AA9</td>\n",
       "      <td>NSE</td>\n",
       "      <td>Materials</td>\n",
       "      <td>0.985081</td>\n",
       "      <td>0.202257</td>\n",
       "      <td>0.315063</td>\n",
       "      <td>0.798020</td>\n",
       "      <td>0.067529</td>\n",
       "      <td>0.326531</td>\n",
       "      <td>0.038462</td>\n",
       "      <td>0.868293</td>\n",
       "      <td>1.000000</td>\n",
       "      <td>0.945736</td>\n",
       "      <td>0.675732</td>\n",
       "      <td>514.240811</td>\n",
       "    </tr>\n",
       "    <tr>\n",
       "      <th>...</th>\n",
       "      <td>...</td>\n",
       "      <td>...</td>\n",
       "      <td>...</td>\n",
       "      <td>...</td>\n",
       "      <td>...</td>\n",
       "      <td>...</td>\n",
       "      <td>...</td>\n",
       "      <td>...</td>\n",
       "      <td>...</td>\n",
       "      <td>...</td>\n",
       "      <td>...</td>\n",
       "      <td>...</td>\n",
       "      <td>...</td>\n",
       "      <td>...</td>\n",
       "      <td>...</td>\n",
       "    </tr>\n",
       "    <tr>\n",
       "      <th>6587</th>\n",
       "      <td>AC3205</td>\n",
       "      <td>S&amp;P 500</td>\n",
       "      <td>Materials</td>\n",
       "      <td>0.741455</td>\n",
       "      <td>0.060143</td>\n",
       "      <td>0.417684</td>\n",
       "      <td>0.165675</td>\n",
       "      <td>0.548692</td>\n",
       "      <td>0.361345</td>\n",
       "      <td>0.038462</td>\n",
       "      <td>0.434146</td>\n",
       "      <td>0.013351</td>\n",
       "      <td>1.000000</td>\n",
       "      <td>0.654812</td>\n",
       "      <td>140.053671</td>\n",
       "    </tr>\n",
       "    <tr>\n",
       "      <th>6588</th>\n",
       "      <td>AC3206</td>\n",
       "      <td>NSE</td>\n",
       "      <td>Healthcare</td>\n",
       "      <td>0.825841</td>\n",
       "      <td>0.202257</td>\n",
       "      <td>0.150130</td>\n",
       "      <td>0.131620</td>\n",
       "      <td>0.855807</td>\n",
       "      <td>0.960384</td>\n",
       "      <td>1.000000</td>\n",
       "      <td>0.652033</td>\n",
       "      <td>1.000000</td>\n",
       "      <td>0.891473</td>\n",
       "      <td>0.808577</td>\n",
       "      <td>44.707999</td>\n",
       "    </tr>\n",
       "    <tr>\n",
       "      <th>6589</th>\n",
       "      <td>AC3207</td>\n",
       "      <td>NSE</td>\n",
       "      <td>Materials</td>\n",
       "      <td>0.634007</td>\n",
       "      <td>0.202257</td>\n",
       "      <td>0.103621</td>\n",
       "      <td>0.725559</td>\n",
       "      <td>0.623914</td>\n",
       "      <td>0.620648</td>\n",
       "      <td>0.038462</td>\n",
       "      <td>0.990244</td>\n",
       "      <td>1.000000</td>\n",
       "      <td>0.829457</td>\n",
       "      <td>0.550209</td>\n",
       "      <td>139.416425</td>\n",
       "    </tr>\n",
       "    <tr>\n",
       "      <th>6590</th>\n",
       "      <td>AC3208</td>\n",
       "      <td>JSE</td>\n",
       "      <td>Materials</td>\n",
       "      <td>0.345718</td>\n",
       "      <td>1.000000</td>\n",
       "      <td>0.513003</td>\n",
       "      <td>0.251038</td>\n",
       "      <td>0.936502</td>\n",
       "      <td>0.591837</td>\n",
       "      <td>0.038462</td>\n",
       "      <td>0.808130</td>\n",
       "      <td>0.236315</td>\n",
       "      <td>0.496124</td>\n",
       "      <td>0.140167</td>\n",
       "      <td>253.320730</td>\n",
       "    </tr>\n",
       "    <tr>\n",
       "      <th>6591</th>\n",
       "      <td>AC3209</td>\n",
       "      <td>S&amp;P 500</td>\n",
       "      <td>Materials</td>\n",
       "      <td>0.046094</td>\n",
       "      <td>0.060143</td>\n",
       "      <td>0.820564</td>\n",
       "      <td>0.931490</td>\n",
       "      <td>0.823644</td>\n",
       "      <td>0.654262</td>\n",
       "      <td>0.038462</td>\n",
       "      <td>0.684553</td>\n",
       "      <td>0.013351</td>\n",
       "      <td>0.782946</td>\n",
       "      <td>0.786611</td>\n",
       "      <td>1509.974662</td>\n",
       "    </tr>\n",
       "  </tbody>\n",
       "</table>\n",
       "<p>6592 rows × 15 columns</p>\n",
       "</div>"
      ],
      "text/plain": [
       "     Stock Index    Index     Industry      VWAP  General Index       NAV  \\\n",
       "0            AA1     NYSE  Real Estate  0.725531       0.229099  0.323865   \n",
       "1            AA4      BSE    Materials  0.857979       0.685225  0.736747   \n",
       "2            AA6      BSE    Materials  0.268967       0.685225  0.106321   \n",
       "3            AA7     NYSE   Healthcare  0.658271       0.229099  0.672234   \n",
       "4            AA9      NSE    Materials  0.985081       0.202257  0.315063   \n",
       "...          ...      ...          ...       ...            ...       ...   \n",
       "6587      AC3205  S&P 500    Materials  0.741455       0.060143  0.417684   \n",
       "6588      AC3206      NSE   Healthcare  0.825841       0.202257  0.150130   \n",
       "6589      AC3207      NSE    Materials  0.634007       0.202257  0.103621   \n",
       "6590      AC3208      JSE    Materials  0.345718       1.000000  0.513003   \n",
       "6591      AC3209  S&P 500    Materials  0.046094       0.060143  0.820564   \n",
       "\n",
       "      P/E Ratio  Volumes Traded  Inventory Turnover  Covid Impact (Beta)  \\\n",
       "0      0.226784        0.059967            0.606242            -0.551282   \n",
       "1      0.758914        0.412653            0.576230             0.038462   \n",
       "2      0.765365        0.955812            0.965186             0.038462   \n",
       "3      0.148172        0.351590            0.704682             1.000000   \n",
       "4      0.798020        0.067529            0.326531             0.038462   \n",
       "...         ...             ...                 ...                  ...   \n",
       "6587   0.165675        0.548692            0.361345             0.038462   \n",
       "6588   0.131620        0.855807            0.960384             1.000000   \n",
       "6589   0.725559        0.623914            0.620648             0.038462   \n",
       "6590   0.251038        0.936502            0.591837             0.038462   \n",
       "6591   0.931490        0.823644            0.654262             0.038462   \n",
       "\n",
       "      Tracking Error  Dollar Exchange Rate  Put-Call Ratio  P/B Ratio  \\\n",
       "0           0.845528              0.013351        0.472868   0.962343   \n",
       "1           0.700813              1.000000        0.860465   0.585774   \n",
       "2           0.559350              1.000000        0.891473   0.576360   \n",
       "3           0.302439              0.013351        0.581395   0.899582   \n",
       "4           0.868293              1.000000        0.945736   0.675732   \n",
       "...              ...                   ...             ...        ...   \n",
       "6587        0.434146              0.013351        1.000000   0.654812   \n",
       "6588        0.652033              1.000000        0.891473   0.808577   \n",
       "6589        0.990244              1.000000        0.829457   0.550209   \n",
       "6590        0.808130              0.236315        0.496124   0.140167   \n",
       "6591        0.684553              0.013351        0.782946   0.786611   \n",
       "\n",
       "      Stock Price  \n",
       "0      156.987852  \n",
       "1     1121.787632  \n",
       "2      158.687016  \n",
       "3      209.645870  \n",
       "4      514.240811  \n",
       "...           ...  \n",
       "6587   140.053671  \n",
       "6588    44.707999  \n",
       "6589   139.416425  \n",
       "6590   253.320730  \n",
       "6591  1509.974662  \n",
       "\n",
       "[6592 rows x 15 columns]"
      ]
     },
     "execution_count": 21,
     "metadata": {},
     "output_type": "execute_result"
    }
   ],
   "source": [
    "cleaned_data"
   ]
  },
  {
   "cell_type": "markdown",
   "metadata": {},
   "source": [
    "### Visualising data distribution"
   ]
  },
  {
   "cell_type": "code",
   "execution_count": 25,
   "metadata": {},
   "outputs": [],
   "source": [
    "normal_data = cleaned_data.copy()"
   ]
  },
  {
   "cell_type": "code",
   "execution_count": 29,
   "metadata": {},
   "outputs": [
    {
     "data": {
      "text/plain": [
       "(array([683., 638., 654., 659., 655., 650., 693., 641., 648., 671.]),\n",
       " array([0.00550139, 0.10495125, 0.20440111, 0.30385098, 0.40330084,\n",
       "        0.5027507 , 0.60220056, 0.70165042, 0.80110028, 0.90055014,\n",
       "        1.        ]),\n",
       " <a list of 10 Patch objects>)"
      ]
     },
     "execution_count": 29,
     "metadata": {},
     "output_type": "execute_result"
    },
    {
     "data": {
      "image/png": "[encoded data removed]",
      "text/plain": [
       "<Figure size 432x288 with 1 Axes>"
      ]
     },
     "metadata": {
      "needs_background": "light"
     },
     "output_type": "display_data"
    }
   ],
   "source": [
    "plt.hist(normal_data[\"VWAP\"])"
   ]
  },
  {
   "cell_type": "code",
   "execution_count": 30,
   "metadata": {},
   "outputs": [
    {
     "data": {
      "text/plain": [
       "(array([1311., 2662.,    0.,    0.,    0.,    0., 1307.,    0.,    0.,\n",
       "        1312.]),\n",
       " array([0.06014285, 0.15412857, 0.24811428, 0.3421    , 0.43608571,\n",
       "        0.53007143, 0.62405714, 0.71804286, 0.81202857, 0.90601429,\n",
       "        1.        ]),\n",
       " <a list of 10 Patch objects>)"
      ]
     },
     "execution_count": 30,
     "metadata": {},
     "output_type": "execute_result"
    },
    {
     "data": {
      "image/png": "[encoded data removed]",
      "text/plain": [
       "<Figure size 432x288 with 1 Axes>"
      ]
     },
     "metadata": {
      "needs_background": "light"
     },
     "output_type": "display_data"
    }
   ],
   "source": [
    "plt.hist(normal_data[\"General Index\"])"
   ]
  },
  {
   "cell_type": "code",
   "execution_count": 31,
   "metadata": {},
   "outputs": [
    {
     "data": {
      "text/plain": [
       "(array([673., 640., 652., 690., 664., 675., 672., 640., 646., 640.]),\n",
       " array([0.10012002, 0.19010802, 0.28009602, 0.37008402, 0.46007201,\n",
       "        0.55006001, 0.64004801, 0.73003601, 0.820024  , 0.910012  ,\n",
       "        1.        ]),\n",
       " <a list of 10 Patch objects>)"
      ]
     },
     "execution_count": 31,
     "metadata": {},
     "output_type": "execute_result"
    },
    {
     "data": {
      "image/png": "[encoded data removed]",
      "text/plain": [
       "<Figure size 432x288 with 1 Axes>"
      ]
     },
     "metadata": {
      "needs_background": "light"
     },
     "output_type": "display_data"
    }
   ],
   "source": [
    "plt.hist(normal_data[\"NAV\"])"
   ]
  },
  {
   "cell_type": "code",
   "execution_count": 32,
   "metadata": {},
   "outputs": [
    {
     "data": {
      "text/plain": [
       "(array([643., 676., 649., 667., 629., 614., 660., 681., 702., 671.]),\n",
       " array([0.05010752, 0.14509676, 0.24008601, 0.33507526, 0.43006451,\n",
       "        0.52505376, 0.62004301, 0.71503225, 0.8100215 , 0.90501075,\n",
       "        1.        ]),\n",
       " <a list of 10 Patch objects>)"
      ]
     },
     "execution_count": 32,
     "metadata": {},
     "output_type": "execute_result"
    },
    {
     "data": {
      "image/png": "[encoded data removed]",
      "text/plain": [
       "<Figure size 432x288 with 1 Axes>"
      ]
     },
     "metadata": {
      "needs_background": "light"
     },
     "output_type": "display_data"
    }
   ],
   "source": [
    "plt.hist(normal_data[\"P/E Ratio\"])"
   ]
  },
  {
   "cell_type": "code",
   "execution_count": 33,
   "metadata": {},
   "outputs": [
    {
     "data": {
      "text/plain": [
       "(array([651., 656., 598., 715., 611., 674., 672., 654., 660., 701.]),\n",
       " array([0.02625311, 0.1236278 , 0.22100249, 0.31837718, 0.41575186,\n",
       "        0.51312655, 0.61050124, 0.70787593, 0.80525062, 0.90262531,\n",
       "        1.        ]),\n",
       " <a list of 10 Patch objects>)"
      ]
     },
     "execution_count": 33,
     "metadata": {},
     "output_type": "execute_result"
    },
    {
     "data": {
      "image/png": "[encoded data removed]",
      "text/plain": [
       "<Figure size 432x288 with 1 Axes>"
      ]
     },
     "metadata": {
      "needs_background": "light"
     },
     "output_type": "display_data"
    }
   ],
   "source": [
    "plt.hist(normal_data[\"Volumes Traded\"])"
   ]
  },
  {
   "cell_type": "code",
   "execution_count": 34,
   "metadata": {},
   "outputs": [
    {
     "data": {
      "text/plain": [
       "(array([659., 660., 654., 681., 642., 654., 656., 709., 657., 620.]),\n",
       " array([0.30732293, 0.37659064, 0.44585834, 0.51512605, 0.58439376,\n",
       "        0.65366146, 0.72292917, 0.79219688, 0.86146459, 0.93073229,\n",
       "        1.        ]),\n",
       " <a list of 10 Patch objects>)"
      ]
     },
     "execution_count": 34,
     "metadata": {},
     "output_type": "execute_result"
    },
    {
     "data": {
      "image/png": "[encoded data removed]",
      "text/plain": [
       "<Figure size 432x288 with 1 Axes>"
      ]
     },
     "metadata": {
      "needs_background": "light"
     },
     "output_type": "display_data"
    }
   ],
   "source": [
    "plt.hist(normal_data[\"Inventory Turnover\"])"
   ]
  },
  {
   "cell_type": "code",
   "execution_count": 35,
   "metadata": {},
   "outputs": [
    {
     "data": {
      "text/plain": [
       "(array([1313.,    0.,    0., 1361., 1334., 1297.,    0.,    0.,    0.,\n",
       "        1287.]),\n",
       " array([-0.55128205, -0.39615385, -0.24102564, -0.08589744,  0.06923077,\n",
       "         0.22435897,  0.37948718,  0.53461538,  0.68974359,  0.84487179,\n",
       "         1.        ]),\n",
       " <a list of 10 Patch objects>)"
      ]
     },
     "execution_count": 35,
     "metadata": {},
     "output_type": "execute_result"
    },
    {
     "data": {
      "image/png": "[encoded data removed]",
      "text/plain": [
       "<Figure size 432x288 with 1 Axes>"
      ]
     },
     "metadata": {
      "needs_background": "light"
     },
     "output_type": "display_data"
    }
   ],
   "source": [
    "plt.hist(normal_data[\"Covid Impact (Beta)\"])"
   ]
  },
  {
   "cell_type": "code",
   "execution_count": 36,
   "metadata": {},
   "outputs": [
    {
     "data": {
      "text/plain": [
       "(array([639., 654., 646., 691., 658., 637., 661., 641., 659., 706.]),\n",
       " array([0.24715447, 0.32243902, 0.39772358, 0.47300813, 0.54829268,\n",
       "        0.62357724, 0.69886179, 0.77414634, 0.84943089, 0.92471545,\n",
       "        1.        ]),\n",
       " <a list of 10 Patch objects>)"
      ]
     },
     "execution_count": 36,
     "metadata": {},
     "output_type": "execute_result"
    },
    {
     "data": {
      "image/png": "[encoded data removed]",
      "text/plain": [
       "<Figure size 432x288 with 1 Axes>"
      ]
     },
     "metadata": {
      "needs_background": "light"
     },
     "output_type": "display_data"
    }
   ],
   "source": [
    "plt.hist(normal_data[\"Tracking Error\"])"
   ]
  },
  {
   "cell_type": "code",
   "execution_count": 37,
   "metadata": {},
   "outputs": [
    {
     "data": {
      "text/plain": [
       "(array([661., 666., 672., 686., 625., 651., 650., 668., 664., 649.]),\n",
       " array([0.46511628, 0.51860465, 0.57209302, 0.6255814 , 0.67906977,\n",
       "        0.73255814, 0.78604651, 0.83953488, 0.89302326, 0.94651163,\n",
       "        1.        ]),\n",
       " <a list of 10 Patch objects>)"
      ]
     },
     "execution_count": 37,
     "metadata": {},
     "output_type": "execute_result"
    },
    {
     "data": {
      "image/png": "[encoded data removed]",
      "text/plain": [
       "<Figure size 432x288 with 1 Axes>"
      ]
     },
     "metadata": {
      "needs_background": "light"
     },
     "output_type": "display_data"
    }
   ],
   "source": [
    "plt.hist(normal_data[\"Put-Call Ratio\"])"
   ]
  },
  {
   "cell_type": "code",
   "execution_count": 38,
   "metadata": {},
   "outputs": [
    {
     "data": {
      "text/plain": [
       "(array([1491., 1446., 1068.,  808.,  612.,  451.,  339.,  216.,  122.,\n",
       "          39.]),\n",
       " array([  10.57348188,  206.55618997,  402.53889805,  598.52160614,\n",
       "         794.50431423,  990.48702232, 1186.4697304 , 1382.45243849,\n",
       "        1578.43514658, 1774.41785467, 1970.40056275]),\n",
       " <a list of 10 Patch objects>)"
      ]
     },
     "execution_count": 38,
     "metadata": {},
     "output_type": "execute_result"
    },
    {
     "data": {
      "image/png": "[encoded data removed]",
      "text/plain": [
       "<Figure size 432x288 with 1 Axes>"
      ]
     },
     "metadata": {
      "needs_background": "light"
     },
     "output_type": "display_data"
    }
   ],
   "source": [
    "plt.hist(normal_data[\"Stock Price\"])"
   ]
  },
  {
   "cell_type": "code",
   "execution_count": 39,
   "metadata": {},
   "outputs": [
    {
     "name": "stdout",
     "output_type": "stream",
     "text": [
      "Materials           1361\n",
      "Energy              1334\n",
      "Real Estate         1313\n",
      "Information Tech    1297\n",
      "Healthcare          1287\n",
      "Name: Industry, dtype: int64\n"
     ]
    }
   ],
   "source": [
    "print (normal_data['Industry'].value_counts())"
   ]
  },
  {
   "cell_type": "markdown",
   "metadata": {},
   "source": [
    "## Encoding categorical data"
   ]
  },
  {
   "cell_type": "code",
   "execution_count": 40,
   "metadata": {},
   "outputs": [
    {
     "data": {
      "text/html": [
       "<div>\n",
       "<style scoped>\n",
       "    .dataframe tbody tr th:only-of-type {\n",
       "        vertical-align: middle;\n",
       "    }\n",
       "\n",
       "    .dataframe tbody tr th {\n",
       "        vertical-align: top;\n",
       "    }\n",
       "\n",
       "    .dataframe thead th {\n",
       "        text-align: right;\n",
       "    }\n",
       "</style>\n",
       "<table border=\"1\" class=\"dataframe\">\n",
       "  <thead>\n",
       "    <tr style=\"text-align: right;\">\n",
       "      <th></th>\n",
       "      <th>Energy</th>\n",
       "      <th>Healthcare</th>\n",
       "      <th>Information Tech</th>\n",
       "      <th>Materials</th>\n",
       "      <th>Real Estate</th>\n",
       "    </tr>\n",
       "  </thead>\n",
       "  <tbody>\n",
       "    <tr>\n",
       "      <th>0</th>\n",
       "      <td>0</td>\n",
       "      <td>0</td>\n",
       "      <td>0</td>\n",
       "      <td>0</td>\n",
       "      <td>1</td>\n",
       "    </tr>\n",
       "    <tr>\n",
       "      <th>1</th>\n",
       "      <td>0</td>\n",
       "      <td>0</td>\n",
       "      <td>0</td>\n",
       "      <td>1</td>\n",
       "      <td>0</td>\n",
       "    </tr>\n",
       "    <tr>\n",
       "      <th>2</th>\n",
       "      <td>0</td>\n",
       "      <td>0</td>\n",
       "      <td>0</td>\n",
       "      <td>1</td>\n",
       "      <td>0</td>\n",
       "    </tr>\n",
       "    <tr>\n",
       "      <th>3</th>\n",
       "      <td>0</td>\n",
       "      <td>1</td>\n",
       "      <td>0</td>\n",
       "      <td>0</td>\n",
       "      <td>0</td>\n",
       "    </tr>\n",
       "    <tr>\n",
       "      <th>4</th>\n",
       "      <td>0</td>\n",
       "      <td>0</td>\n",
       "      <td>0</td>\n",
       "      <td>1</td>\n",
       "      <td>0</td>\n",
       "    </tr>\n",
       "    <tr>\n",
       "      <th>5</th>\n",
       "      <td>0</td>\n",
       "      <td>0</td>\n",
       "      <td>1</td>\n",
       "      <td>0</td>\n",
       "      <td>0</td>\n",
       "    </tr>\n",
       "    <tr>\n",
       "      <th>6</th>\n",
       "      <td>0</td>\n",
       "      <td>1</td>\n",
       "      <td>0</td>\n",
       "      <td>0</td>\n",
       "      <td>0</td>\n",
       "    </tr>\n",
       "    <tr>\n",
       "      <th>7</th>\n",
       "      <td>0</td>\n",
       "      <td>1</td>\n",
       "      <td>0</td>\n",
       "      <td>0</td>\n",
       "      <td>0</td>\n",
       "    </tr>\n",
       "    <tr>\n",
       "      <th>8</th>\n",
       "      <td>0</td>\n",
       "      <td>0</td>\n",
       "      <td>0</td>\n",
       "      <td>0</td>\n",
       "      <td>1</td>\n",
       "    </tr>\n",
       "    <tr>\n",
       "      <th>9</th>\n",
       "      <td>0</td>\n",
       "      <td>0</td>\n",
       "      <td>0</td>\n",
       "      <td>0</td>\n",
       "      <td>1</td>\n",
       "    </tr>\n",
       "  </tbody>\n",
       "</table>\n",
       "</div>"
      ],
      "text/plain": [
       "   Energy  Healthcare  Information Tech  Materials  Real Estate\n",
       "0       0           0                 0          0            1\n",
       "1       0           0                 0          1            0\n",
       "2       0           0                 0          1            0\n",
       "3       0           1                 0          0            0\n",
       "4       0           0                 0          1            0\n",
       "5       0           0                 1          0            0\n",
       "6       0           1                 0          0            0\n",
       "7       0           1                 0          0            0\n",
       "8       0           0                 0          0            1\n",
       "9       0           0                 0          0            1"
      ]
     },
     "execution_count": 40,
     "metadata": {},
     "output_type": "execute_result"
    }
   ],
   "source": [
    "dummy_variable_1 = pd.get_dummies(normal_data[\"Industry\"])\n",
    "dummy_variable_1.head(10)"
   ]
  },
  {
   "cell_type": "code",
   "execution_count": null,
   "metadata": {},
   "outputs": [],
   "source": []
  },
  {
   "cell_type": "code",
   "execution_count": 43,
   "metadata": {},
   "outputs": [
    {
     "data": {
      "text/html": [
       "<div>\n",
       "<style scoped>\n",
       "    .dataframe tbody tr th:only-of-type {\n",
       "        vertical-align: middle;\n",
       "    }\n",
       "\n",
       "    .dataframe tbody tr th {\n",
       "        vertical-align: top;\n",
       "    }\n",
       "\n",
       "    .dataframe thead th {\n",
       "        text-align: right;\n",
       "    }\n",
       "</style>\n",
       "<table border=\"1\" class=\"dataframe\">\n",
       "  <thead>\n",
       "    <tr style=\"text-align: right;\">\n",
       "      <th></th>\n",
       "      <th>Industry-Energy</th>\n",
       "      <th>Healthcare</th>\n",
       "      <th>Information Tech</th>\n",
       "      <th>Materials</th>\n",
       "      <th>Real Estate</th>\n",
       "    </tr>\n",
       "  </thead>\n",
       "  <tbody>\n",
       "    <tr>\n",
       "      <th>0</th>\n",
       "      <td>0</td>\n",
       "      <td>0</td>\n",
       "      <td>0</td>\n",
       "      <td>0</td>\n",
       "      <td>1</td>\n",
       "    </tr>\n",
       "    <tr>\n",
       "      <th>1</th>\n",
       "      <td>0</td>\n",
       "      <td>0</td>\n",
       "      <td>0</td>\n",
       "      <td>1</td>\n",
       "      <td>0</td>\n",
       "    </tr>\n",
       "    <tr>\n",
       "      <th>2</th>\n",
       "      <td>0</td>\n",
       "      <td>0</td>\n",
       "      <td>0</td>\n",
       "      <td>1</td>\n",
       "      <td>0</td>\n",
       "    </tr>\n",
       "    <tr>\n",
       "      <th>3</th>\n",
       "      <td>0</td>\n",
       "      <td>1</td>\n",
       "      <td>0</td>\n",
       "      <td>0</td>\n",
       "      <td>0</td>\n",
       "    </tr>\n",
       "    <tr>\n",
       "      <th>4</th>\n",
       "      <td>0</td>\n",
       "      <td>0</td>\n",
       "      <td>0</td>\n",
       "      <td>1</td>\n",
       "      <td>0</td>\n",
       "    </tr>\n",
       "  </tbody>\n",
       "</table>\n",
       "</div>"
      ],
      "text/plain": [
       "   Industry-Energy  Healthcare  Information Tech  Materials  Real Estate\n",
       "0                0           0                 0          0            1\n",
       "1                0           0                 0          1            0\n",
       "2                0           0                 0          1            0\n",
       "3                0           1                 0          0            0\n",
       "4                0           0                 0          1            0"
      ]
     },
     "execution_count": 43,
     "metadata": {},
     "output_type": "execute_result"
    }
   ],
   "source": [
    "dummy_variable_1.rename(columns={'Energy':'Industry-Energy'}, inplace=True)\n",
    "dummy_variable_1.head()"
   ]
  },
  {
   "cell_type": "code",
   "execution_count": 44,
   "metadata": {},
   "outputs": [
    {
     "data": {
      "text/html": [
       "<div>\n",
       "<style scoped>\n",
       "    .dataframe tbody tr th:only-of-type {\n",
       "        vertical-align: middle;\n",
       "    }\n",
       "\n",
       "    .dataframe tbody tr th {\n",
       "        vertical-align: top;\n",
       "    }\n",
       "\n",
       "    .dataframe thead th {\n",
       "        text-align: right;\n",
       "    }\n",
       "</style>\n",
       "<table border=\"1\" class=\"dataframe\">\n",
       "  <thead>\n",
       "    <tr style=\"text-align: right;\">\n",
       "      <th></th>\n",
       "      <th>Industry-Energy</th>\n",
       "      <th>Industry-Healthcare</th>\n",
       "      <th>Industry-Information Tech</th>\n",
       "      <th>Industry-Materials</th>\n",
       "      <th>Industry-Real Estate</th>\n",
       "    </tr>\n",
       "  </thead>\n",
       "  <tbody>\n",
       "    <tr>\n",
       "      <th>0</th>\n",
       "      <td>0</td>\n",
       "      <td>0</td>\n",
       "      <td>0</td>\n",
       "      <td>0</td>\n",
       "      <td>1</td>\n",
       "    </tr>\n",
       "    <tr>\n",
       "      <th>1</th>\n",
       "      <td>0</td>\n",
       "      <td>0</td>\n",
       "      <td>0</td>\n",
       "      <td>1</td>\n",
       "      <td>0</td>\n",
       "    </tr>\n",
       "    <tr>\n",
       "      <th>2</th>\n",
       "      <td>0</td>\n",
       "      <td>0</td>\n",
       "      <td>0</td>\n",
       "      <td>1</td>\n",
       "      <td>0</td>\n",
       "    </tr>\n",
       "    <tr>\n",
       "      <th>3</th>\n",
       "      <td>0</td>\n",
       "      <td>1</td>\n",
       "      <td>0</td>\n",
       "      <td>0</td>\n",
       "      <td>0</td>\n",
       "    </tr>\n",
       "    <tr>\n",
       "      <th>4</th>\n",
       "      <td>0</td>\n",
       "      <td>0</td>\n",
       "      <td>0</td>\n",
       "      <td>1</td>\n",
       "      <td>0</td>\n",
       "    </tr>\n",
       "  </tbody>\n",
       "</table>\n",
       "</div>"
      ],
      "text/plain": [
       "   Industry-Energy  Industry-Healthcare  Industry-Information Tech  \\\n",
       "0                0                    0                          0   \n",
       "1                0                    0                          0   \n",
       "2                0                    0                          0   \n",
       "3                0                    1                          0   \n",
       "4                0                    0                          0   \n",
       "\n",
       "   Industry-Materials  Industry-Real Estate  \n",
       "0                   0                     1  \n",
       "1                   1                     0  \n",
       "2                   1                     0  \n",
       "3                   0                     0  \n",
       "4                   1                     0  "
      ]
     },
     "execution_count": 44,
     "metadata": {},
     "output_type": "execute_result"
    }
   ],
   "source": [
    "dummy_variable_1.rename(columns={'Healthcare':'Industry-Healthcare','Information Tech':'Industry-Information Tech','Materials':'Industry-Materials','Real Estate':'Industry-Real Estate'}, inplace=True)\n",
    "dummy_variable_1.head()"
   ]
  },
  {
   "cell_type": "code",
   "execution_count": 45,
   "metadata": {},
   "outputs": [],
   "source": [
    "cleaned_final_data = pd.concat([normal_data, dummy_variable_1], axis=1)"
   ]
  },
  {
   "cell_type": "code",
   "execution_count": 46,
   "metadata": {},
   "outputs": [
    {
     "data": {
      "text/html": [
       "<div>\n",
       "<style scoped>\n",
       "    .dataframe tbody tr th:only-of-type {\n",
       "        vertical-align: middle;\n",
       "    }\n",
       "\n",
       "    .dataframe tbody tr th {\n",
       "        vertical-align: top;\n",
       "    }\n",
       "\n",
       "    .dataframe thead th {\n",
       "        text-align: right;\n",
       "    }\n",
       "</style>\n",
       "<table border=\"1\" class=\"dataframe\">\n",
       "  <thead>\n",
       "    <tr style=\"text-align: right;\">\n",
       "      <th></th>\n",
       "      <th>Stock Index</th>\n",
       "      <th>Index</th>\n",
       "      <th>Industry</th>\n",
       "      <th>VWAP</th>\n",
       "      <th>General Index</th>\n",
       "      <th>NAV</th>\n",
       "      <th>P/E Ratio</th>\n",
       "      <th>Volumes Traded</th>\n",
       "      <th>Inventory Turnover</th>\n",
       "      <th>Covid Impact (Beta)</th>\n",
       "      <th>Tracking Error</th>\n",
       "      <th>Dollar Exchange Rate</th>\n",
       "      <th>Put-Call Ratio</th>\n",
       "      <th>P/B Ratio</th>\n",
       "      <th>Stock Price</th>\n",
       "      <th>Industry-Energy</th>\n",
       "      <th>Industry-Healthcare</th>\n",
       "      <th>Industry-Information Tech</th>\n",
       "      <th>Industry-Materials</th>\n",
       "      <th>Industry-Real Estate</th>\n",
       "    </tr>\n",
       "  </thead>\n",
       "  <tbody>\n",
       "    <tr>\n",
       "      <th>0</th>\n",
       "      <td>AA1</td>\n",
       "      <td>NYSE</td>\n",
       "      <td>Real Estate</td>\n",
       "      <td>0.725531</td>\n",
       "      <td>0.229099</td>\n",
       "      <td>0.323865</td>\n",
       "      <td>0.226784</td>\n",
       "      <td>0.059967</td>\n",
       "      <td>0.606242</td>\n",
       "      <td>-0.551282</td>\n",
       "      <td>0.845528</td>\n",
       "      <td>0.013351</td>\n",
       "      <td>0.472868</td>\n",
       "      <td>0.962343</td>\n",
       "      <td>156.987852</td>\n",
       "      <td>0</td>\n",
       "      <td>0</td>\n",
       "      <td>0</td>\n",
       "      <td>0</td>\n",
       "      <td>1</td>\n",
       "    </tr>\n",
       "    <tr>\n",
       "      <th>1</th>\n",
       "      <td>AA4</td>\n",
       "      <td>BSE</td>\n",
       "      <td>Materials</td>\n",
       "      <td>0.857979</td>\n",
       "      <td>0.685225</td>\n",
       "      <td>0.736747</td>\n",
       "      <td>0.758914</td>\n",
       "      <td>0.412653</td>\n",
       "      <td>0.576230</td>\n",
       "      <td>0.038462</td>\n",
       "      <td>0.700813</td>\n",
       "      <td>1.000000</td>\n",
       "      <td>0.860465</td>\n",
       "      <td>0.585774</td>\n",
       "      <td>1121.787632</td>\n",
       "      <td>0</td>\n",
       "      <td>0</td>\n",
       "      <td>0</td>\n",
       "      <td>1</td>\n",
       "      <td>0</td>\n",
       "    </tr>\n",
       "    <tr>\n",
       "      <th>2</th>\n",
       "      <td>AA6</td>\n",
       "      <td>BSE</td>\n",
       "      <td>Materials</td>\n",
       "      <td>0.268967</td>\n",
       "      <td>0.685225</td>\n",
       "      <td>0.106321</td>\n",
       "      <td>0.765365</td>\n",
       "      <td>0.955812</td>\n",
       "      <td>0.965186</td>\n",
       "      <td>0.038462</td>\n",
       "      <td>0.559350</td>\n",
       "      <td>1.000000</td>\n",
       "      <td>0.891473</td>\n",
       "      <td>0.576360</td>\n",
       "      <td>158.687016</td>\n",
       "      <td>0</td>\n",
       "      <td>0</td>\n",
       "      <td>0</td>\n",
       "      <td>1</td>\n",
       "      <td>0</td>\n",
       "    </tr>\n",
       "    <tr>\n",
       "      <th>3</th>\n",
       "      <td>AA7</td>\n",
       "      <td>NYSE</td>\n",
       "      <td>Healthcare</td>\n",
       "      <td>0.658271</td>\n",
       "      <td>0.229099</td>\n",
       "      <td>0.672234</td>\n",
       "      <td>0.148172</td>\n",
       "      <td>0.351590</td>\n",
       "      <td>0.704682</td>\n",
       "      <td>1.000000</td>\n",
       "      <td>0.302439</td>\n",
       "      <td>0.013351</td>\n",
       "      <td>0.581395</td>\n",
       "      <td>0.899582</td>\n",
       "      <td>209.645870</td>\n",
       "      <td>0</td>\n",
       "      <td>1</td>\n",
       "      <td>0</td>\n",
       "      <td>0</td>\n",
       "      <td>0</td>\n",
       "    </tr>\n",
       "    <tr>\n",
       "      <th>4</th>\n",
       "      <td>AA9</td>\n",
       "      <td>NSE</td>\n",
       "      <td>Materials</td>\n",
       "      <td>0.985081</td>\n",
       "      <td>0.202257</td>\n",
       "      <td>0.315063</td>\n",
       "      <td>0.798020</td>\n",
       "      <td>0.067529</td>\n",
       "      <td>0.326531</td>\n",
       "      <td>0.038462</td>\n",
       "      <td>0.868293</td>\n",
       "      <td>1.000000</td>\n",
       "      <td>0.945736</td>\n",
       "      <td>0.675732</td>\n",
       "      <td>514.240811</td>\n",
       "      <td>0</td>\n",
       "      <td>0</td>\n",
       "      <td>0</td>\n",
       "      <td>1</td>\n",
       "      <td>0</td>\n",
       "    </tr>\n",
       "  </tbody>\n",
       "</table>\n",
       "</div>"
      ],
      "text/plain": [
       "  Stock Index Index     Industry      VWAP  General Index       NAV  \\\n",
       "0         AA1  NYSE  Real Estate  0.725531       0.229099  0.323865   \n",
       "1         AA4   BSE    Materials  0.857979       0.685225  0.736747   \n",
       "2         AA6   BSE    Materials  0.268967       0.685225  0.106321   \n",
       "3         AA7  NYSE   Healthcare  0.658271       0.229099  0.672234   \n",
       "4         AA9   NSE    Materials  0.985081       0.202257  0.315063   \n",
       "\n",
       "   P/E Ratio  Volumes Traded  Inventory Turnover  Covid Impact (Beta)  \\\n",
       "0   0.226784        0.059967            0.606242            -0.551282   \n",
       "1   0.758914        0.412653            0.576230             0.038462   \n",
       "2   0.765365        0.955812            0.965186             0.038462   \n",
       "3   0.148172        0.351590            0.704682             1.000000   \n",
       "4   0.798020        0.067529            0.326531             0.038462   \n",
       "\n",
       "   Tracking Error  Dollar Exchange Rate  Put-Call Ratio  P/B Ratio  \\\n",
       "0        0.845528              0.013351        0.472868   0.962343   \n",
       "1        0.700813              1.000000        0.860465   0.585774   \n",
       "2        0.559350              1.000000        0.891473   0.576360   \n",
       "3        0.302439              0.013351        0.581395   0.899582   \n",
       "4        0.868293              1.000000        0.945736   0.675732   \n",
       "\n",
       "   Stock Price  Industry-Energy  Industry-Healthcare  \\\n",
       "0   156.987852                0                    0   \n",
       "1  1121.787632                0                    0   \n",
       "2   158.687016                0                    0   \n",
       "3   209.645870                0                    1   \n",
       "4   514.240811                0                    0   \n",
       "\n",
       "   Industry-Information Tech  Industry-Materials  Industry-Real Estate  \n",
       "0                          0                   0                     1  \n",
       "1                          0                   1                     0  \n",
       "2                          0                   1                     0  \n",
       "3                          0                   0                     0  \n",
       "4                          0                   1                     0  "
      ]
     },
     "execution_count": 46,
     "metadata": {},
     "output_type": "execute_result"
    }
   ],
   "source": [
    "cleaned_final_data.head()"
   ]
  },
  {
   "cell_type": "code",
   "execution_count": 47,
   "metadata": {},
   "outputs": [],
   "source": [
    "cleaned_final_data.to_excel('cleaned_final_train_data.xlsx')"
   ]
  },
  {
   "cell_type": "code",
   "execution_count": 48,
   "metadata": {},
   "outputs": [
    {
     "data": {
      "text/plain": [
       "6592"
      ]
     },
     "execution_count": 48,
     "metadata": {},
     "output_type": "execute_result"
    }
   ],
   "source": [
    "len(cleaned_final_data)"
   ]
  },
  {
   "cell_type": "code",
   "execution_count": null,
   "metadata": {},
   "outputs": [],
   "source": []
  }
 ],
 "metadata": {
  "kernelspec": {
   "display_name": "Python 3",
   "language": "python",
   "name": "python3"
  },
  "language_info": {
   "codemirror_mode": {
    "name": "ipython",
    "version": 3
   },
   "file_extension": ".py",
   "mimetype": "text/x-python",
   "name": "python",
   "nbconvert_exporter": "python",
   "pygments_lexer": "ipython3",
   "version": "3.7.6"
  }
 },
 "nbformat": 4,
 "nbformat_minor": 4
}
